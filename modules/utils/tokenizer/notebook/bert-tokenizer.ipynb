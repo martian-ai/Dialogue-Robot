{
 "cells": [
  {
   "cell_type": "code",
   "execution_count": 1,
   "metadata": {},
   "outputs": [],
   "source": [
    "# import sys\n",
    "# sys.path.append('../..')\n",
    "# from learner.nn_with_bert.function.tokenization import BasicTokenizer\n",
    "# # from pytorch_pretrained_bert.tokenization import BertTokenizer\n",
    "\n",
    "# text = '你好哈'\n",
    "# tokenizer = BertTokenizer.from_pretrained('bert-base-chinese')\n",
    "# tokens = tokenizer.tokenize(text)\n",
    "# print(tokens)\n",
    "# sequence = tokenizer.convert_tokens_to_ids(tokens)\n",
    "# print(sequence)\n"
   ]
  },
  {
   "cell_type": "code",
   "execution_count": 4,
   "metadata": {},
   "outputs": [
    {
     "output_type": "stream",
     "name": "stderr",
     "text": [
      "Truncation was not explicitely activated but `max_length` is provided a specific value, please use `truncation=True` to explicitely truncate examples to max length. Defaulting to 'longest_first' truncation strategy. If you encode pairs of sequences (GLUE-style) with the tokenizer you can select this strategy more precisely by providing a specific strategy to `truncation`.\n",
      "tensor([[ 101,  791, 1921, 1921, 3698,  679, 7231, 1506,  102]])\n"
     ]
    }
   ],
   "source": [
    "\n",
    "\n",
    "text = '今天天气不错哈'\n",
    "from transformers import BertTokenizer\n",
    "tokenizer = BertTokenizer.from_pretrained('bert-base-chinese')\n",
    "input_ids = tokenizer.encode(\n",
    "                        \"今天天气不错哈\",\n",
    "                        add_special_tokens=True,  # 添加special tokens， 也就是CLS和SEP\n",
    "                        max_length=100,           # 设定最大文本长度\n",
    "                        pad_to_max_length=False,   # pad到最大的长度\n",
    "                        return_tensors='pt'       # 返回的类型为pytorch tensor\n",
    "                   )\n",
    "print(input_ids)\n"
   ]
  },
  {
   "cell_type": "code",
   "execution_count": null,
   "metadata": {},
   "outputs": [],
   "source": []
  }
 ],
 "metadata": {
  "interpreter": {
   "hash": "d157ae46664ef61827425b1700af4733ccc165bd48e667b428e957754f1cdd7e"
  },
  "kernelspec": {
   "name": "python3",
   "display_name": "Python 3.6.13 64-bit ('bot-mvp': conda)",
   "metadata": {
    "interpreter": {
     "hash": "5d6d9f967702116cd52b18bb17c040a0a171147d6aea1f4ff01518918a1f4969"
    }
   }
  },
  "language_info": {
   "codemirror_mode": {
    "name": "ipython",
    "version": 3
   },
   "file_extension": ".py",
   "mimetype": "text/x-python",
   "name": "python",
   "nbconvert_exporter": "python",
   "pygments_lexer": "ipython3",
   "version": "3.6.13-final"
  },
  "orig_nbformat": 4
 },
 "nbformat": 4,
 "nbformat_minor": 2
}