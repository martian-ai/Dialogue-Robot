{
 "cells": [
  {
   "cell_type": "code",
   "execution_count": null,
   "metadata": {},
   "outputs": [],
   "source": [
    "import ckpe    \n",
    "\n",
    "ckpe_obj = ckpe.ckpe()\n",
    "# 初次导入时会自动下载北大词性标注模型包，自动加载入内存（50M）  \n",
    "# 若由于网速原因下载失败，请参考 https://github.com/lancopku/pkuseg-python 如何安装下载 pkuseg 默认模型  \n",
    "\n",
    "text = '法国媒体最新披露，巴黎圣母院火灾当晚，第一次消防警报响起时，负责查验的保安找错了位置，因而可能贻误了救火的最佳时机。...'\n",
    "key_phrases = ckpe_obj.extract_keyphrase(text)\n",
    "print(key_phrases)\n",
    "# print(ckpe_obj.extract_keyphrase.__doc__)"
   ]
  }
 ],
 "metadata": {
  "interpreter": {
   "hash": "d157ae46664ef61827425b1700af4733ccc165bd48e667b428e957754f1cdd7e"
  },
  "kernelspec": {
   "display_name": "Python 3.6.13 64-bit ('env_bot': conda)",
   "name": "python3"
  },
  "language_info": {
   "codemirror_mode": {
    "name": "ipython",
    "version": 3
   },
   "file_extension": ".py",
   "mimetype": "text/x-python",
   "name": "python",
   "nbconvert_exporter": "python",
   "pygments_lexer": "ipython3",
   "version": "3.10.4"
  },
  "orig_nbformat": 4
 },
 "nbformat": 4,
 "nbformat_minor": 2
}
