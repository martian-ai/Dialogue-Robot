{
 "cells": [
  {
   "cell_type": "code",
   "execution_count": 1,
   "source": [
    "from pyhanlp import *\n",
    "\n",
    "\"\"\" 短语提取\"\"\"\n",
    "text = '''\n",
    "  算法工程师\n",
    "  算法（Algorithm）是一系列解决问题的清晰指令，也就是说，能够对一定规范的输入，在有限时间内获得所要求的输出。\n",
    "  如果一个算法有缺陷，或不适合于某个问题，执行这个算法将不会解决这个问题。不同的算法可能用不同的时间、\n",
    "  空间或效率来完成同样的任务。一个算法的优劣可以用空间复杂度与时间复杂度来衡量。算法工程师就是利用算法处理事物的人。\n",
    "\n",
    "  1职位简介\n",
    "  算法工程师是一个非常高端的职位；\n",
    "  专业要求：计算机、电子、通信、数学等相关专业；\n",
    "  学历要求：本科及其以上的学历，大多数是硕士学历及其以上；\n",
    "  语言要求：英语要求是熟练，基本上能阅读国外专业书刊；\n",
    "  必须掌握计算机相关知识，熟练使用仿真工具MATLAB等，必须会一门编程语言。\n",
    "\n",
    "  2研究方向\n",
    "  视频算法工程师、图像处理算法工程师、音频算法工程师 通信基带算法工程师\n",
    "\n",
    "  3目前国内外状况\n",
    "  目前国内从事算法研究的工程师不少，但是高级算法工程师却很少，是一个非常紧缺的专业工程师。\n",
    "  算法工程师根据研究领域来分主要有音频/视频算法处理、图像技术方面的二维信息算法处理和通信物理层、\n",
    "  雷达信号处理、生物医学信号处理等领域的一维信息算法处理。\n",
    "  在计算机音视频和图形图像技术等二维信息算法处理方面目前比较先进的视频处理算法：机器视觉成为此类算法研究的核心；\n",
    "  另外还有2D转3D算法(2D-to-3D conversion)，去隔行算法(de-interlacing)，运动估计运动补偿算法\n",
    "  (Motion estimation/Motion Compensation)，去噪算法(Noise Reduction)，缩放算法(scaling)，\n",
    "  锐化处理算法(Sharpness)，超分辨率算法(Super Resolution) 手势识别(gesture recognition) 人脸识别(face recognition)。\n",
    "  在通信物理层等一维信息领域目前常用的算法：无线领域的RRM、RTT，传送领域的调制解调、信道均衡、信号检测、网络优化、信号分解等。\n",
    "  另外数据挖掘、互联网搜索算法也成为当今的热门方向。\n",
    "  算法工程师逐渐往人工智能方向发展。'''\n",
    " \n",
    "phrase_list = HanLP.extractPhrase(text, 5)\n",
    "print(phrase_list)"
   ],
   "outputs": [
    {
     "output_type": "stream",
     "name": "stdout",
     "text": [
      "下载 https://file.hankcs.com/hanlp/hanlp-1.8.2-release.zip 到 /Users/sunhongchao/miniconda3/envs/env_bot/lib/python3.6/site-packages/pyhanlp/static/hanlp-1.8.2-release.zip\n",
      "100%   1.8 MiB 688.6 KiB/s ETA:  0 s [=========================================]\n",
      "下载 https://file.hankcs.com/hanlp/data-for-1.7.5.zip 到 /Users/sunhongchao/miniconda3/envs/env_bot/lib/python3.6/site-packages/pyhanlp/static/data-for-1.8.2.zip\n",
      "100% 637.7 MiB   3.3 MiB/s ETA:  0 s [=========================================]\n"
     ]
    },
    {
     "output_type": "stream",
     "name": "stderr",
     "text": [
      "解压 data.zip...\n"
     ]
    },
    {
     "output_type": "stream",
     "name": "stdout",
     "text": [
      "[算法工程师, 算法处理, 一维信息, 算法研究, 信息算法]\n"
     ]
    }
   ],
   "metadata": {}
  }
 ],
 "metadata": {
  "orig_nbformat": 4,
  "language_info": {
   "name": "python",
   "version": "3.6.13",
   "mimetype": "text/x-python",
   "codemirror_mode": {
    "name": "ipython",
    "version": 3
   },
   "pygments_lexer": "ipython3",
   "nbconvert_exporter": "python",
   "file_extension": ".py"
  },
  "kernelspec": {
   "name": "python3",
   "display_name": "Python 3.6.13 64-bit ('env_bot': conda)"
  },
  "interpreter": {
   "hash": "d157ae46664ef61827425b1700af4733ccc165bd48e667b428e957754f1cdd7e"
  }
 },
 "nbformat": 4,
 "nbformat_minor": 2
}