{
 "metadata": {
  "language_info": {
   "codemirror_mode": {
    "name": "ipython",
    "version": 3
   },
   "file_extension": ".py",
   "mimetype": "text/x-python",
   "name": "python",
   "nbconvert_exporter": "python",
   "pygments_lexer": "ipython3",
   "version": "3.6.2"
  },
  "orig_nbformat": 4,
  "kernelspec": {
   "name": "python3",
   "display_name": "Python 3.6.2 64-bit ('env_py36': conda)"
  },
  "interpreter": {
   "hash": "b3b8e6564cd28fa20f38d28a4c13dd93403fe2911dc44dd775e144d02f733d0c"
  }
 },
 "nbformat": 4,
 "nbformat_minor": 2,
 "cells": [
  {
   "cell_type": "code",
   "execution_count": 1,
   "metadata": {},
   "outputs": [],
   "source": [
    "import sys\n",
    "import jieba\n",
    "sys.path.append('..')\n",
    "from function.tfidf import feature_select, predict"
   ]
  },
  {
   "cell_type": "code",
   "execution_count": 2,
   "metadata": {},
   "outputs": [
    {
     "output_type": "stream",
     "name": "stderr",
     "text": [
      "Building prefix dict from the default dictionary ...\n",
      "Loading model from cache C:\\Users\\apoll\\AppData\\Local\\Temp\\jieba.cache\n",
      "Loading model cost 0.753 seconds.\n",
      "Prefix dict has been built successfully.\n",
      "[('叶文洁', 0.005471649624913958), ('妹妹', 0.0007220711443076414)]\n"
     ]
    }
   ],
   "source": [
    "    # 训练模型\n",
    "    data_list = []\n",
    "    with open(\"../../../../resources/corpus/document/三体.txt\", mode='r', encoding='utf-8') as f:\n",
    "        lines = f.readlines()\n",
    "    data_list = lines[:1000]\n",
    "\n",
    "    data_list_cut = [list(jieba.cut(item)) for item in data_list]\n",
    "    features=feature_select(data_list_cut) #所有词的TF-IDF值\n",
    "\n",
    "    with open(\"../../../../resources/corpus/lexical/HIT_stopwords.txt\", mode='r', encoding='utf-8') as f:\n",
    "        lines = f.readlines() \n",
    "        stop_words = [item.strip() for item in lines]\n",
    "    \n",
    "    key_words_dict = {}\n",
    "    for item in features:\n",
    "        if len(item[0]) < 2:\n",
    "            pass\n",
    "        elif item[0] in stop_words:\n",
    "            pass\n",
    "        else:\n",
    "            key_words_dict[item[0]] = item[1]\n",
    "\n",
    "    print(predict('叶文洁的妹妹是谁', key_words_dict))"
   ]
  }
 ]
}