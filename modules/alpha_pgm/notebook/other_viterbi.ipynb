{
 "cells": [
  {
   "cell_type": "code",
   "execution_count": null,
   "metadata": {},
   "outputs": [],
   "source": [
    "# https://blog.csdn.net/Luzichang/article/details/91365752https://blog.csdn.net/Luzichang/article/details/91365752"
   ]
  },
  {
   "cell_type": "code",
   "execution_count": 2,
   "metadata": {},
   "outputs": [
    {
     "name": "stdout",
     "output_type": "stream",
     "text": "rainy\nsunny\nsunny\nsunny\nsunny\nrainy\n"
    }
   ],
   "source": [
    "# https://blog.csdn.net/youfefi/article/details/74276546\n",
    "import numpy as np\n",
    "# -*- codeing:utf-8 -*-\n",
    "\n",
    "# 隐状态\n",
    "hidden_state = ['sunny', 'rainy']\n",
    "# 观测序列\n",
    "obsevition = ['walk', 'shop', 'clean']\n",
    "\n",
    "# 根据观测序列、发射概率、状态转移矩阵、发射概率\n",
    "# 返回最佳路径\n",
    "def compute(obs, states, start_p, trans_p, emit_p):\n",
    "    # max_p（6*2）每一列存储第一列不同隐状态的最大概率\n",
    "    max_p = np.zeros((len(obs), len(states)))\n",
    "    # path（2*6）每一行存储上max_p对应列的路径\n",
    "    path = np.zeros((len(states), len(obs)))\n",
    "\n",
    "    # 初始化\n",
    "    for i in range(len(states)): # i in {0, 1}\n",
    "        max_p[0][i] = start_p[i] * emit_p[i][obs[0]]\n",
    "        path[i][0] = i\n",
    "\n",
    "    for t in range(1, len(obs)):\n",
    "        newpath = np.zeros((len(states), len(obs)))\n",
    "        for y in range(len(states)):\n",
    "            prob = -1\n",
    "            for y0 in range(len(states)):\n",
    "                nprob = max_p[t-1][y0] * trans_p[y0][y] * emit_p[y][obs[t]]\n",
    "                if nprob > prob:\n",
    "                    prob = nprob\n",
    "                    state = y0\n",
    "                    # 记录路径\n",
    "                    max_p[t][y] = prob\n",
    "                    for m in range(t):\n",
    "                        newpath[y][m] = path[state][m]\n",
    "                    newpath[y][t] = y\n",
    "\n",
    "        path = newpath\n",
    "\n",
    "    max_prob = -1\n",
    "    path_state = 0\n",
    "    # 返回最大概率的路径\n",
    "    for y in range(len(states)):\n",
    "        if max_p[len(obs)-1][y] > max_prob:\n",
    "            max_prob = max_p[len(obs)-1][y]\n",
    "            path_state = y\n",
    "\n",
    "    return path[path_state]\n",
    "\n",
    "\n",
    "state_s = [0, 1]\n",
    "obser = [0, 1, 2, 2, 1, 0]\n",
    "\n",
    "# 初始状态，测试集中，0.6概率观测序列以sunny开始\n",
    "start_probability = [0.6, 0.4]\n",
    "\n",
    "# 转移概率，0.7：sunny下一天sunny的概率\n",
    "transititon_probability = np.array([[0.7, 0.3], [0.4, 0.6]])\n",
    "\n",
    "# 发射概率，0.4：sunny在0.4概率下为shop\n",
    "emission_probability = np.array([[0.1, 0.4, 0.5], [0.6, 0.3, 0.1]])\n",
    "\n",
    "result = compute(obser, state_s, start_probability, transititon_probability, emission_probability)\n",
    "\n",
    "for k in range(len(result)):\n",
    "    print(hidden_state[int(result[k])])"
   ]
  }
 ],
 "metadata": {
  "language_info": {
   "codemirror_mode": {
    "name": "ipython",
    "version": 3
   },
   "file_extension": ".py",
   "mimetype": "text/x-python",
   "name": "python",
   "nbconvert_exporter": "python",
   "pygments_lexer": "ipython3",
   "version": "3.6.2-final"
  },
  "orig_nbformat": 2,
  "kernelspec": {
   "name": "python3",
   "display_name": "Python 3"
  }
 },
 "nbformat": 4,
 "nbformat_minor": 2
}