{
 "cells": [
  {
   "source": [
    "用hmmlearn学习隐马尔科夫模型HMM https://www.cnblogs.com/pinard/p/7001397.html\n",
    "\n",
    "+ hmmlearn https://www.jianshu.com/p/b7758d4a59ca\n",
    "    + GaussianHMM：观测状态是连续状态，且符合高斯分布\n",
    "    + GMMHMM：观测状态是连续状态，且符合混合高斯分布\n",
    "    + MultinomialHMM：观测状态是离散的\n"
   ],
   "cell_type": "markdown",
   "metadata": {}
  },
  {
   "cell_type": "code",
   "execution_count": 12,
   "metadata": {},
   "outputs": [
    {
     "output_type": "stream",
     "name": "stdout",
     "text": [
      "The ball picked: red, white, red\nThe hidden box box3, box3, box3\n"
     ]
    }
   ],
   "source": [
    "import numpy as np\n",
    "from hmmlearn import hmm\n",
    "\n",
    "states = [\"box 1\", \"box 2\", \"box3\"]\n",
    "n_states = len(states)\n",
    "observations = [\"red\", \"white\"]\n",
    "n_observations = len(observations)\n",
    "start_probability = np.array([0.2, 0.4, 0.4])\n",
    "transition_probability = np.array([\n",
    "  [0.5, 0.2, 0.3],\n",
    "  [0.3, 0.5, 0.2],\n",
    "  [0.2, 0.3, 0.5]\n",
    "])\n",
    "emission_probability = np.array([\n",
    "  [0.5, 0.5],\n",
    "  [0.4, 0.6],\n",
    "  [0.7, 0.3]\n",
    "])\n",
    "model = hmm.MultinomialHMM(n_components=n_states)\n",
    "model.startprob_=start_probability\n",
    "model.transmat_=transition_probability\n",
    "model.emissionprob_=emission_probability\n",
    "\n",
    "seen = np.array([[0,1,0]]).T\n",
    "logprob, box = model.decode(seen, algorithm=\"viterbi\")\n",
    "print(\"The ball picked:\", \", \".join(map(lambda x: observations[x], seen.flatten())))\n",
    "print(\"The hidden box\", \", \".join(map(lambda x: states[x], box)))"
   ]
  },
  {
   "cell_type": "code",
   "execution_count": 13,
   "metadata": {},
   "outputs": [
    {
     "output_type": "stream",
     "name": "stdout",
     "text": [
      "The ball picked: red, white, red\nThe hidden box box3, box3, box3\n"
     ]
    }
   ],
   "source": [
    "box2 = model.predict(seen)\n",
    "print(\"The ball picked:\", \", \".join(map(lambda x: observations[x], seen.flatten())))\n",
    "print(\"The hidden box\", \", \".join(map(lambda x: states[x], box2)))"
   ]
  },
  {
   "cell_type": "code",
   "execution_count": 14,
   "metadata": {},
   "outputs": [
    {
     "output_type": "stream",
     "name": "stderr",
     "text": [
      "Even though the 'startprob_' attribute is set, it will be overwritten during initialization because 'init_params' contains 's'\n",
      "Even though the 'transmat_' attribute is set, it will be overwritten during initialization because 'init_params' contains 't'\n",
      "[0.31234156 0.4501524  0.23750604]\n",
      "[[0.33484524 0.3200893  0.34506546]\n",
      " [0.33541825 0.31462262 0.34995913]\n",
      " [0.33445689 0.32363219 0.34191092]]\n",
      "[[0.49118293 0.50881707]\n",
      " [0.57282152 0.42717848]\n",
      " [0.43726572 0.56273428]]\n",
      "-8.284680865193941\n",
      "[1.68947043e-15 9.99999973e-01 2.70803779e-08]\n",
      "[[2.71169935e-01 5.67465589e-01 1.61364476e-01]\n",
      " [7.49276085e-01 5.14150175e-05 2.50672500e-01]\n",
      " [1.67811621e-01 6.46116406e-01 1.86071973e-01]]\n",
      "[[0.12263025 0.87736975]\n",
      " [0.99893129 0.00106871]\n",
      " [0.29912917 0.70087083]]\n",
      "-6.557910459006066\n"
     ]
    }
   ],
   "source": [
    "import numpy as np\n",
    "from hmmlearn import hmm\n",
    "states = [\"box 1\", \"box 2\", \"box3\"]\n",
    "n_states = len(states)\n",
    "observations = [\"red\", \"white\"]\n",
    "n_observations = len(observations)\n",
    "model2 = hmm.MultinomialHMM(n_components=n_states, n_iter=20, tol=0.01)\n",
    "X2 = np.array([[0,1,0,1],[0,0,0,1],[1,0,1,1]])\n",
    "model2.fit(X2)\n",
    "print(model2.startprob_)\n",
    "print(model2.transmat_)\n",
    "print(model2.emissionprob_)\n",
    "print(model2.score(X2))\n",
    "model2.fit(X2)\n",
    "print(model2.startprob_)\n",
    "print(model2.transmat_)\n",
    "print(model2.emissionprob_)\n",
    "print(model2.score(X2))"
   ]
  },
  {
   "cell_type": "code",
   "execution_count": 15,
   "metadata": {},
   "outputs": [],
   "source": [
    "startprob = np.array([0.6, 0.3, 0.1, 0.0])\n",
    "# The transition matrix, note that there are no transitions possible\n",
    "# between component 1 and 3\n",
    "transmat = np.array([[0.7, 0.2, 0.0, 0.1],\n",
    "                     [0.3, 0.5, 0.2, 0.0],\n",
    "                     [0.0, 0.3, 0.5, 0.2],\n",
    "                     [0.2, 0.0, 0.2, 0.6]])\n",
    "# The means of each component\n",
    "means = np.array([[0.0,  0.0],\n",
    "                  [0.0, 11.0],\n",
    "                  [9.0, 10.0],\n",
    "                  [11.0, -1.0]])\n",
    "# The covariance of each component\n",
    "covars = .5 * np.tile(np.identity(2), (4, 1, 1))\n",
    "\n",
    "# Build an HMM instance and set parameters\n",
    "model3 = hmm.GaussianHMM(n_components=4, covariance_type=\"full\")\n",
    "\n",
    "# Instead of fitting it from the data, we directly set the estimated\n",
    "# parameters, the means and covariance of the components\n",
    "model3.startprob_ = startprob\n",
    "model3.transmat_ = transmat\n",
    "model3.means_ = means\n",
    "model3.covars_ = covars"
   ]
  }
 ],
 "metadata": {
  "kernelspec": {
   "display_name": "Python 3",
   "language": "python",
   "name": "python3"
  },
  "language_info": {
   "codemirror_mode": {
    "name": "ipython",
    "version": 3
   },
   "file_extension": ".py",
   "mimetype": "text/x-python",
   "name": "python",
   "nbconvert_exporter": "python",
   "pygments_lexer": "ipython3",
   "version": "3.6.12-final"
  }
 },
 "nbformat": 4,
 "nbformat_minor": 1
}