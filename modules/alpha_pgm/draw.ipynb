{
 "metadata": {
  "language_info": {
   "codemirror_mode": {
    "name": "ipython",
    "version": 3
   },
   "file_extension": ".py",
   "mimetype": "text/x-python",
   "name": "python",
   "nbconvert_exporter": "python",
   "pygments_lexer": "ipython3",
   "version": "3.6.12"
  },
  "orig_nbformat": 2,
  "kernelspec": {
   "name": "python3",
   "display_name": "Python 3.6.12 64-bit ('py36': conda)",
   "metadata": {
    "interpreter": {
     "hash": "924e982aa35647671d532067362c404d46a8ac2454bd352a04b64eb0c32438d5"
    }
   }
  }
 },
 "nbformat": 4,
 "nbformat_minor": 2,
 "cells": [
  {
   "cell_type": "code",
   "execution_count": 3,
   "metadata": {},
   "outputs": [
    {
     "output_type": "execute_result",
     "data": {
      "text/plain": [
       "<matplotlib.axes._axes.Axes at 0x7ff290537080>"
      ]
     },
     "metadata": {},
     "execution_count": 3
    },
    {
     "output_type": "display_data",
     "data": {
      "text/plain": "<Figure size 127.087x116.22 with 1 Axes>",
      "image/svg+xml": "<?xml version=\"1.0\" encoding=\"utf-8\" standalone=\"no\"?>\n<!DOCTYPE svg PUBLIC \"-//W3C//DTD SVG 1.1//EN\"\n  \"http://www.w3.org/Graphics/SVG/1.1/DTD/svg11.dtd\">\n<!-- Created with matplotlib (https://matplotlib.org/) -->\n<svg height=\"130.620472pt\" version=\"1.1\" viewBox=\"0 0 141.486614 130.620472\" width=\"141.486614pt\" xmlns=\"http://www.w3.org/2000/svg\" xmlns:xlink=\"http://www.w3.org/1999/xlink\">\n <metadata>\n  <rdf:RDF xmlns:cc=\"http://creativecommons.org/ns#\" xmlns:dc=\"http://purl.org/dc/elements/1.1/\" xmlns:rdf=\"http://www.w3.org/1999/02/22-rdf-syntax-ns#\">\n   <cc:Work>\n    <dc:type rdf:resource=\"http://purl.org/dc/dcmitype/StillImage\"/>\n    <dc:date>2021-04-04T11:18:33.624066</dc:date>\n    <dc:format>image/svg+xml</dc:format>\n    <dc:creator>\n     <cc:Agent>\n      <dc:title>Matplotlib v3.3.3, https://matplotlib.org/</dc:title>\n     </cc:Agent>\n    </dc:creator>\n   </cc:Work>\n  </rdf:RDF>\n </metadata>\n <defs>\n  <style type=\"text/css\">*{stroke-linecap:butt;stroke-linejoin:round;}</style>\n </defs>\n <g id=\"figure_1\">\n  <g id=\"patch_1\">\n   <path d=\"M 0 130.620472 \nL 141.486614 130.620472 \nL 141.486614 0 \nL 0 0 \nz\n\" style=\"fill:none;\"/>\n  </g>\n  <g id=\"axes_1\">\n   <g id=\"patch_2\">\n    <path clip-path=\"url(#pb9cb37c61b)\" d=\"M 15.231496 117.751181 \nL 128.617323 117.751181 \nL 128.617323 55.388976 \nL 15.231496 55.388976 \nz\n\" style=\"fill:none;stroke:#000000;stroke-linejoin:miter;\"/>\n   </g>\n   <g id=\"patch_3\">\n    <path clip-path=\"url(#pb9cb37c61b)\" d=\"M 57.751181 27.04252 \nL 50.664567 28.459843 \nL 50.664567 27.04252 \nL 17.593701 27.04252 \nL 17.593701 27.04252 \nL 50.664567 27.04252 \nL 50.664567 25.625197 \nz\n\" style=\"stroke:#000000;stroke-linejoin:miter;\"/>\n   </g>\n   <g id=\"patch_4\">\n    <path clip-path=\"url(#pb9cb37c61b)\" d=\"M 49.916413 71.058512 \nL 51.817951 64.086206 \nL 53.085643 64.720052 \nL 65.585949 39.719441 \nL 65.585949 39.719441 \nL 53.085643 64.720052 \nL 54.353335 65.353898 \nz\n\" style=\"stroke:#000000;stroke-linejoin:miter;\"/>\n   </g>\n   <g id=\"patch_5\">\n    <path clip-path=\"url(#pb9cb37c61b)\" d=\"M 86.097638 83.735433 \nL 79.011024 85.152756 \nL 79.011024 83.735433 \nL 57.751181 83.735433 \nL 57.751181 83.735433 \nL 79.011024 83.735433 \nL 79.011024 82.31811 \nz\n\" style=\"stroke:#000000;stroke-linejoin:miter;\"/>\n   </g>\n   <g id=\"patch_6\">\n    <path clip-path=\"url(#pb9cb37c61b)\" d=\"M 93.932406 71.058512 \nL 89.495483 65.353898 \nL 90.763176 64.720052 \nL 78.26287 39.719441 \nL 78.26287 39.719441 \nL 90.763176 64.720052 \nL 92.030868 64.086206 \nz\n\" style=\"stroke:#000000;stroke-linejoin:miter;\"/>\n   </g>\n   <g id=\"patch_7\">\n    <path clip-path=\"url(#pb9cb37c61b)\" d=\"M 15.231496 29.404724 \nC 15.85796 29.404724 16.45885 29.155828 16.901827 28.712851 \nC 17.344804 28.269874 17.593701 27.668984 17.593701 27.04252 \nC 17.593701 26.416056 17.344804 25.815166 16.901827 25.372189 \nC 16.45885 24.929212 15.85796 24.680315 15.231496 24.680315 \nC 14.605032 24.680315 14.004142 24.929212 13.561165 25.372189 \nC 13.118188 25.815166 12.869291 26.416056 12.869291 27.04252 \nC 12.869291 27.668984 13.118188 28.269874 13.561165 28.712851 \nC 14.004142 29.155828 14.605032 29.404724 15.231496 29.404724 \nz\n\" style=\"stroke:#000000;stroke-linejoin:miter;\"/>\n   </g>\n   <g id=\"patch_8\">\n    <path clip-path=\"url(#pb9cb37c61b)\" d=\"M 71.924409 41.215748 \nC 75.683194 41.215748 79.288534 39.722367 81.946395 37.064506 \nC 84.604257 34.406644 86.097638 30.801304 86.097638 27.04252 \nC 86.097638 23.283736 84.604257 19.678396 81.946395 17.020534 \nC 79.288534 14.362672 75.683194 12.869291 71.924409 12.869291 \nC 68.165625 12.869291 64.560285 14.362672 61.902424 17.020534 \nC 59.244562 19.678396 57.751181 23.283736 57.751181 27.04252 \nC 57.751181 30.801304 59.244562 34.406644 61.902424 37.064506 \nC 64.560285 39.722367 68.165625 41.215748 71.924409 41.215748 \nz\n\" style=\"fill:none;stroke:#000000;stroke-linejoin:miter;\"/>\n   </g>\n   <g id=\"patch_9\">\n    <path clip-path=\"url(#pb9cb37c61b)\" d=\"M 43.577953 97.908661 \nC 47.336737 97.908661 50.942077 96.415281 53.599939 93.757419 \nC 56.2578 91.099557 57.751181 87.494217 57.751181 83.735433 \nC 57.751181 79.976649 56.2578 76.371309 53.599939 73.713447 \nC 50.942077 71.055585 47.336737 69.562205 43.577953 69.562205 \nC 39.819169 69.562205 36.213829 71.055585 33.555967 73.713447 \nC 30.898105 76.371309 29.404724 79.976649 29.404724 83.735433 \nC 29.404724 87.494217 30.898105 91.099557 33.555967 93.757419 \nC 36.213829 96.415281 39.819169 97.908661 43.577953 97.908661 \nz\n\" style=\"fill:none;stroke:#000000;stroke-linejoin:miter;\"/>\n   </g>\n   <g id=\"patch_10\">\n    <path clip-path=\"url(#pb9cb37c61b)\" d=\"M 100.270866 96.491339 \nC 103.653772 96.491339 106.898578 95.147296 109.290653 92.75522 \nC 111.682729 90.363145 113.026772 87.118339 113.026772 83.735433 \nC 113.026772 80.352527 111.682729 77.107721 109.290653 74.715646 \nC 106.898578 72.32357 103.653772 70.979528 100.270866 70.979528 \nC 96.88796 70.979528 93.643154 72.32357 91.251079 74.715646 \nC 88.859003 77.107721 87.514961 80.352527 87.514961 83.735433 \nC 87.514961 87.118339 88.859003 90.363145 91.251079 92.75522 \nC 93.643154 95.147296 96.88796 96.491339 100.270866 96.491339 \nz\n\" style=\"fill:none;stroke:#000000;stroke-linejoin:miter;\"/>\n   </g>\n   <g id=\"patch_11\">\n    <path clip-path=\"url(#pb9cb37c61b)\" d=\"M 100.270866 97.908661 \nC 104.02965 97.908661 107.63499 96.415281 110.292852 93.757419 \nC 112.950714 91.099557 114.444094 87.494217 114.444094 83.735433 \nC 114.444094 79.976649 112.950714 76.371309 110.292852 73.713447 \nC 107.63499 71.055585 104.02965 69.562205 100.270866 69.562205 \nC 96.512082 69.562205 92.906742 71.055585 90.24888 73.713447 \nC 87.591019 76.371309 86.097638 79.976649 86.097638 83.735433 \nC 86.097638 87.494217 87.591019 91.099557 90.24888 93.757419 \nC 92.906742 96.415281 96.512082 97.908661 100.270866 97.908661 \nz\n\" style=\"fill:none;stroke:#000000;stroke-linejoin:miter;\"/>\n   </g>\n   <g id=\"matplotlib.axis_1\"/>\n   <g id=\"matplotlib.axis_2\"/>\n   <g id=\"text_1\">\n    <!-- $n = 1, \\ldots, N$ -->\n    <g transform=\"translate(20.231496 110.671494)scale(0.1 -0.1)\">\n     <defs>\n      <path d=\"M 55.71875 33.015625 \nL 49.3125 0 \nL 40.28125 0 \nL 46.6875 32.671875 \nQ 47.125 34.96875 47.359375 36.71875 \nQ 47.609375 38.484375 47.609375 39.5 \nQ 47.609375 43.609375 45.015625 45.890625 \nQ 42.4375 48.1875 37.796875 48.1875 \nQ 30.5625 48.1875 25.34375 43.375 \nQ 20.125 38.578125 18.5 30.328125 \nL 12.5 0 \nL 3.515625 0 \nL 14.109375 54.6875 \nL 23.09375 54.6875 \nL 21.296875 46.09375 \nQ 25.046875 50.828125 30.3125 53.40625 \nQ 35.59375 56 41.40625 56 \nQ 48.640625 56 52.609375 52.09375 \nQ 56.59375 48.1875 56.59375 41.109375 \nQ 56.59375 39.359375 56.375 37.359375 \nQ 56.15625 35.359375 55.71875 33.015625 \nz\n\" id=\"DejaVuSans-Oblique-110\"/>\n      <path d=\"M 10.59375 45.40625 \nL 73.1875 45.40625 \nL 73.1875 37.203125 \nL 10.59375 37.203125 \nz\nM 10.59375 25.484375 \nL 73.1875 25.484375 \nL 73.1875 17.1875 \nL 10.59375 17.1875 \nz\n\" id=\"DejaVuSans-61\"/>\n      <path d=\"M 12.40625 8.296875 \nL 28.515625 8.296875 \nL 28.515625 63.921875 \nL 10.984375 60.40625 \nL 10.984375 69.390625 \nL 28.421875 72.90625 \nL 38.28125 72.90625 \nL 38.28125 8.296875 \nL 54.390625 8.296875 \nL 54.390625 0 \nL 12.40625 0 \nz\n\" id=\"DejaVuSans-49\"/>\n      <path d=\"M 11.71875 12.40625 \nL 22.015625 12.40625 \nL 22.015625 4 \nL 14.015625 -11.625 \nL 7.71875 -11.625 \nL 11.71875 4 \nz\n\" id=\"DejaVuSans-44\"/>\n      <path d=\"M 44.828125 12.40625 \nL 55.171875 12.40625 \nL 55.171875 0 \nL 44.828125 0 \nz\nM 78.078125 12.40625 \nL 88.484375 12.40625 \nL 88.484375 0 \nL 78.078125 0 \nz\nM 11.53125 12.40625 \nL 21.921875 12.40625 \nL 21.921875 0 \nL 11.53125 0 \nz\n\" id=\"DejaVuSans-8230\"/>\n      <path d=\"M 16.890625 72.90625 \nL 30.171875 72.90625 \nL 50.296875 10.40625 \nL 62.5 72.90625 \nL 72.125 72.90625 \nL 57.90625 0 \nL 44.578125 0 \nL 24.515625 62.890625 \nL 12.3125 0 \nL 2.6875 0 \nz\n\" id=\"DejaVuSans-Oblique-78\"/>\n     </defs>\n     <use transform=\"translate(0 0.09375)\" xlink:href=\"#DejaVuSans-Oblique-110\"/>\n     <use transform=\"translate(82.861328 0.09375)\" xlink:href=\"#DejaVuSans-61\"/>\n     <use transform=\"translate(186.132812 0.09375)\" xlink:href=\"#DejaVuSans-49\"/>\n     <use transform=\"translate(249.755859 0.09375)\" xlink:href=\"#DejaVuSans-44\"/>\n     <use transform=\"translate(301.025391 0.09375)\" xlink:href=\"#DejaVuSans-8230\"/>\n     <use transform=\"translate(401.025391 0.09375)\" xlink:href=\"#DejaVuSans-44\"/>\n     <use transform=\"translate(452.294922 0.09375)\" xlink:href=\"#DejaVuSans-Oblique-78\"/>\n    </g>\n   </g>\n   <g id=\"text_2\">\n    <!-- $\\alpha$ -->\n    <g transform=\"translate(11.931496 21.54252)scale(0.1 -0.1)\">\n     <defs>\n      <path d=\"M 40.921875 25.4375 \nL 40.96875 36.71875 \nQ 41.015625 48.25 32.328125 48.296875 \nQ 25.828125 48.34375 21.78125 42.921875 \nQ 16.703125 36.234375 14.984375 27.296875 \nQ 12.890625 16.546875 15.53125 11.421875 \nQ 18.265625 6.203125 24.171875 6.203125 \nQ 30.71875 6.203125 36.234375 16.609375 \nz\nM 33.84375 55.90625 \nQ 49.078125 56.15625 48.875 40.375 \nQ 48.875 40.375 56.5 54.6875 \nL 64.5 54.6875 \nL 48.734375 25.046875 \nL 48.578125 14.359375 \nQ 48.578125 11.96875 49.90625 9.96875 \nQ 51.421875 7.625 52.984375 7.625 \nL 57.328125 7.625 \nL 55.859375 0 \nL 50.4375 0 \nQ 45.84375 0 42.53125 4.109375 \nQ 40.96875 6.15625 40.921875 10.453125 \nQ 37.75 5.21875 32.28125 0.78125 \nQ 29.6875 -1.265625 22.703125 -1.21875 \nQ 11.28125 -1.125 7.125 6.203125 \nQ 2.875 13.8125 5.515625 27.296875 \nQ 8.34375 41.796875 15.765625 48.390625 \nQ 24.125 55.765625 33.84375 55.90625 \nz\n\" id=\"DejaVuSans-Oblique-945\"/>\n     </defs>\n     <use transform=\"translate(0 0.84375)\" xlink:href=\"#DejaVuSans-Oblique-945\"/>\n    </g>\n   </g>\n   <g id=\"text_3\">\n    <!-- $\\beta$ -->\n    <g transform=\"translate(68.724409 29.84252)scale(0.1 -0.1)\">\n     <defs>\n      <path d=\"M 13.625 3.375 \nL 8.9375 -20.796875 \nL -0.09375 -20.796875 \nL 14.5 54.34375 \nQ 18.84375 76.609375 39.65625 76.609375 \nQ 60.75 76.609375 57.171875 57.8125 \nQ 54.734375 44.4375 45.21875 39.546875 \nQ 58.015625 35.15625 55.515625 22.125 \nQ 51.125 -1.078125 27.484375 -1.03125 \nQ 17.140625 -0.984375 13.625 3.375 \nz\nM 15.921875 15.09375 \nQ 19.671875 6.59375 29.296875 6.640625 \nQ 43.359375 6.640625 46.34375 21.96875 \nQ 49.03125 35.75 26.171875 34.671875 \nL 27.78125 42.96875 \nQ 45.453125 42.671875 48.53125 58.59375 \nQ 50.640625 69.34375 39.203125 69.28125 \nQ 26.421875 69.28125 23.484375 54.046875 \nz\n\" id=\"DejaVuSans-Oblique-946\"/>\n     </defs>\n     <use transform=\"translate(0 0.390625)\" xlink:href=\"#DejaVuSans-Oblique-946\"/>\n    </g>\n   </g>\n   <g id=\"text_4\">\n    <!-- $w_n$ -->\n    <g transform=\"translate(37.127953 86.494808)scale(0.1 -0.1)\">\n     <defs>\n      <path d=\"M 8.5 54.6875 \nL 17.390625 54.6875 \nL 19.671875 10.6875 \nL 40.09375 54.6875 \nL 50.484375 54.6875 \nL 53.515625 10.6875 \nL 72.90625 54.6875 \nL 81.890625 54.6875 \nL 56.890625 0 \nL 46.390625 0 \nL 43.703125 45.3125 \nL 22.796875 0 \nL 12.203125 0 \nz\n\" id=\"DejaVuSans-Oblique-119\"/>\n     </defs>\n     <use transform=\"translate(0 0.3125)\" xlink:href=\"#DejaVuSans-Oblique-119\"/>\n     <use transform=\"translate(81.787109 -16.09375)scale(0.7)\" xlink:href=\"#DejaVuSans-Oblique-110\"/>\n    </g>\n   </g>\n   <g id=\"text_5\">\n    <!-- $x_n$ -->\n    <g transform=\"translate(94.920866 86.494808)scale(0.1 -0.1)\">\n     <defs>\n      <path d=\"M 60.015625 54.6875 \nL 34.90625 27.875 \nL 50.296875 0 \nL 39.984375 0 \nL 28.421875 21.6875 \nL 8.296875 0 \nL -2.59375 0 \nL 24.3125 28.8125 \nL 10.015625 54.6875 \nL 20.3125 54.6875 \nL 30.8125 34.90625 \nL 49.125 54.6875 \nz\n\" id=\"DejaVuSans-Oblique-120\"/>\n     </defs>\n     <use transform=\"translate(0 0.3125)\" xlink:href=\"#DejaVuSans-Oblique-120\"/>\n     <use transform=\"translate(59.179688 -16.09375)scale(0.7)\" xlink:href=\"#DejaVuSans-Oblique-110\"/>\n    </g>\n   </g>\n  </g>\n </g>\n <defs>\n  <clipPath id=\"pb9cb37c61b\">\n   <rect height=\"116.220472\" width=\"127.086614\" x=\"7.2\" y=\"7.2\"/>\n  </clipPath>\n </defs>\n</svg>\n",
      "image/png": "[encoded data removed]"
     },
     "metadata": {}
    }
   ],
   "source": [
    "import daft\n",
    "\n",
    "pgm = daft.PGM(observed_style=\"inner\")\n",
    "\n",
    "# Hierarchical parameters.\n",
    "pgm.add_node(\"alpha\", r\"$\\alpha$\", 0.5, 2, fixed=True)\n",
    "pgm.add_node(\"beta\", r\"$\\beta$\", 1.5, 2)\n",
    "\n",
    "# Latent variable.\n",
    "pgm.add_node(\"w\", r\"$w_n$\", 1, 1)\n",
    "\n",
    "# Data.\n",
    "pgm.add_node(\"x\", r\"$x_n$\", 2, 1, observed=True)\n",
    "\n",
    "# Add in the edges.\n",
    "pgm.add_edge(\"alpha\", \"beta\")\n",
    "pgm.add_edge(\"beta\", \"w\")\n",
    "pgm.add_edge(\"w\", \"x\")\n",
    "pgm.add_edge(\"beta\", \"x\")\n",
    "\n",
    "# And a plate.\n",
    "pgm.add_plate([0.5, 0.5, 2, 1], label=r\"$n = 1, \\ldots, N$\", shift=-0.1)\n",
    "\n",
    "# Render and save.\n",
    "pgm.render()"
   ]
  },
  {
   "cell_type": "code",
   "execution_count": null,
   "metadata": {},
   "outputs": [],
   "source": [
    "import daft\n",
    "\n",
    "pgm = daft.PGM(observed_style=\"inner\")\n",
    "\n",
    "# Hierarchical parameters.\n",
    "pgm.add_node(\"alpha\", r\"$\\alpha$\", 0.5, 2, fixed=True)\n",
    "pgm.add_node(\"beta\", r\"$\\beta$\", 1.5, 2)\n",
    "\n",
    "# Latent variable.\n",
    "pgm.add_node(\"w\", r\"$w_n$\", 1, 1)\n",
    "\n",
    "# Data.\n",
    "pgm.add_node(\"x\", r\"$x_n$\", 2, 1, observed=True)\n",
    "\n",
    "# Add in the edges.\n",
    "pgm.add_edge(\"alpha\", \"beta\")\n",
    "pgm.add_edge(\"beta\", \"w\")\n",
    "pgm.add_edge(\"w\", \"x\")\n",
    "pgm.add_edge(\"beta\", \"x\")\n",
    "\n",
    "# And a plate.\n",
    "pgm.add_plate([0.5, 0.5, 2, 1], label=r\"$n = 1, \\ldots, N$\", shift=-0.1)\n",
    "\n",
    "# Render and save.\n",
    "pgm.render()"
   ]
  }
 ]
}