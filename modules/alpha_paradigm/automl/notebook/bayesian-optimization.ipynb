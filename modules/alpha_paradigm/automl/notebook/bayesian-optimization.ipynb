{
 "cells": [
  {
   "cell_type": "code",
   "execution_count": 1,
   "metadata": {},
   "outputs": [],
   "source": [
    "# 可以理解为 -loss\n",
    "# x, y 为超参数\n",
    "def black_box_function(x, y, z):\n",
    "    \"\"\"Function with unknown internals we wish to maximize.\n",
    "\n",
    "    This is just serving as an example, for all intents and\n",
    "    purposes think of the internals of this function, i.e.: the process\n",
    "    which generates its output values, as unknown.\n",
    "    \"\"\"\n",
    "    return -x ** 2 - (y - 1) ** 2 + 1 - z**2"
   ]
  },
  {
   "cell_type": "code",
   "execution_count": 2,
   "metadata": {},
   "outputs": [],
   "source": [
    "from bayes_opt import BayesianOptimization\n",
    "\n",
    "# Bounded region of parameter space\n",
    "pbounds = {'x': (2, 4), 'y': (-3, 3), 'z':(-1, 1)}\n",
    "\n",
    "optimizer = BayesianOptimization(\n",
    "    f=black_box_function,\n",
    "    pbounds=pbounds,\n",
    "    random_state=1,\n",
    ")"
   ]
  },
  {
   "cell_type": "code",
   "execution_count": 3,
   "metadata": {},
   "outputs": [
    {
     "name": "stdout",
     "output_type": "stream",
     "text": [
      "|   iter    |  target   |     x     |     y     |     z     |\n",
      "-------------------------------------------------------------\n",
      "| \u001b[0m 1       \u001b[0m | \u001b[0m-8.135   \u001b[0m | \u001b[0m 2.834   \u001b[0m | \u001b[0m 1.322   \u001b[0m | \u001b[0m-0.9998  \u001b[0m |\n",
      "| \u001b[0m 2       \u001b[0m | \u001b[0m-16.18   \u001b[0m | \u001b[0m 2.605   \u001b[0m | \u001b[0m-2.119   \u001b[0m | \u001b[0m-0.8153  \u001b[0m |\n",
      "| \u001b[95m 3       \u001b[0m | \u001b[95m-7.955   \u001b[0m | \u001b[95m 2.795   \u001b[0m | \u001b[95m 1.38    \u001b[0m | \u001b[95m-1.0     \u001b[0m |\n",
      "| \u001b[0m 4       \u001b[0m | \u001b[0m-9.223   \u001b[0m | \u001b[0m 2.959   \u001b[0m | \u001b[0m 1.685   \u001b[0m | \u001b[0m-1.0     \u001b[0m |\n",
      "| \u001b[95m 5       \u001b[0m | \u001b[95m-6.41    \u001b[0m | \u001b[95m 2.574   \u001b[0m | \u001b[95m 1.352   \u001b[0m | \u001b[95m-0.813   \u001b[0m |\n",
      "| \u001b[95m 6       \u001b[0m | \u001b[95m-5.409   \u001b[0m | \u001b[95m 2.355   \u001b[0m | \u001b[95m 1.303   \u001b[0m | \u001b[95m-0.8786  \u001b[0m |\n",
      "| \u001b[95m 7       \u001b[0m | \u001b[95m-4.384   \u001b[0m | \u001b[95m 2.173   \u001b[0m | \u001b[95m 1.377   \u001b[0m | \u001b[95m-0.7223  \u001b[0m |\n",
      "| \u001b[95m 8       \u001b[0m | \u001b[95m-3.628   \u001b[0m | \u001b[95m 2.054   \u001b[0m | \u001b[95m 1.199   \u001b[0m | \u001b[95m-0.6076  \u001b[0m |\n",
      "| \u001b[95m 9       \u001b[0m | \u001b[95m-3.21    \u001b[0m | \u001b[95m 2.0     \u001b[0m | \u001b[95m 1.27    \u001b[0m | \u001b[95m-0.3699  \u001b[0m |\n",
      "| \u001b[95m 10      \u001b[0m | \u001b[95m-3.061   \u001b[0m | \u001b[95m 2.0     \u001b[0m | \u001b[95m 1.007   \u001b[0m | \u001b[95m-0.247   \u001b[0m |\n",
      "| \u001b[95m 11      \u001b[0m | \u001b[95m-3.031   \u001b[0m | \u001b[95m 2.0     \u001b[0m | \u001b[95m 1.169   \u001b[0m | \u001b[95m 0.05514 \u001b[0m |\n",
      "| \u001b[0m 12      \u001b[0m | \u001b[0m-3.082   \u001b[0m | \u001b[0m 2.0     \u001b[0m | \u001b[0m 0.7942  \u001b[0m | \u001b[0m 0.2001  \u001b[0m |\n",
      "=============================================================\n"
     ]
    }
   ],
   "source": [
    "# init_points:How many steps of bayesian optimization you want to perform. \n",
    "#     The more steps the more likely to find a good maximum you are\n",
    "# n_iter:init_points: How many steps of random exploration you want to perform. \n",
    "#     Random exploration can help by diversifying the exploration space\n",
    "optimizer.maximize(\n",
    "    init_points=2,\n",
    "    n_iter=10,\n",
    ")\n",
    "# 从结果中可以发现， x=2， y=0.9633 时，loss 最小"
   ]
  },
  {
   "cell_type": "code",
   "execution_count": 4,
   "metadata": {},
   "outputs": [
    {
     "name": "stdout",
     "output_type": "stream",
     "text": [
      "{'target': -3.03145955748012, 'params': {'x': 2.0, 'y': 1.1685793209158493, 'z': 0.0551413641440938}}\n"
     ]
    }
   ],
   "source": [
    "print(optimizer.max)"
   ]
  },
  {
   "cell_type": "code",
   "execution_count": 5,
   "metadata": {},
   "outputs": [
    {
     "name": "stdout",
     "output_type": "stream",
     "text": [
      "Iteration 0: \n",
      "\t{'target': -8.134997845775894, 'params': {'x': 2.8340440094051482, 'y': 1.3219469606529488, 'z': -0.9997712503653102}}\n",
      "Iteration 1: \n",
      "\t{'target': -16.18009153861323, 'params': {'x': 2.6046651452636795, 'y': -2.119464655097322, 'z': -0.8153228104624044}}\n",
      "Iteration 2: \n",
      "\t{'target': -7.954667664508275, 'params': {'x': 2.7946307718081798, 'y': 1.3804030961182772, 'z': -0.9999999991173608}}\n",
      "Iteration 3: \n",
      "\t{'target': -9.222903953857811, 'params': {'x': 2.9585490546212125, 'y': 1.685486283785271, 'z': -1.0}}\n",
      "Iteration 4: \n",
      "\t{'target': -6.4099957374449055, 'params': {'x': 2.5738742276882407, 'y': 1.3524439616130954, 'z': -0.8129885924228184}}\n",
      "Iteration 5: \n",
      "\t{'target': -5.408906520180684, 'params': {'x': 2.354798944090825, 'y': 1.302995857718694, 'z': -0.8786478038979748}}\n",
      "Iteration 6: \n",
      "\t{'target': -4.383666955900594, 'params': {'x': 2.172552910856585, 'y': 1.3768112061513813, 'z': -0.7222839610208134}}\n",
      "Iteration 7: \n",
      "\t{'target': -3.627686396006036, 'params': {'x': 2.053967889618571, 'y': 1.1993343351867745, 'z': -0.6075920730535556}}\n",
      "Iteration 8: \n",
      "\t{'target': -3.2095137004057275, 'params': {'x': 2.0, 'y': 1.2695917884025483, 'z': -0.3699107568477068}}\n",
      "Iteration 9: \n",
      "\t{'target': -3.0610376224516354, 'params': {'x': 2.0, 'y': 1.0065209884971704, 'z': -0.2469718590460363}}\n",
      "Iteration 10: \n",
      "\t{'target': -3.03145955748012, 'params': {'x': 2.0, 'y': 1.1685793209158493, 'z': 0.0551413641440938}}\n",
      "Iteration 11: \n",
      "\t{'target': -3.082416285093984, 'params': {'x': 2.0, 'y': 0.7941747528532686, 'z': 0.2001305891935837}}\n"
     ]
    }
   ],
   "source": [
    "for i, res in enumerate(optimizer.res):\n",
    "    print(\"Iteration {}: \\n\\t{}\".format(i, res))"
   ]
  },
  {
   "cell_type": "code",
   "execution_count": null,
   "metadata": {},
   "outputs": [],
   "source": [
    "# Optimizaiton\n",
    "## Learning rate\n",
    "# Parameters\n",
    "# Architecture"
   ]
  }
 ],
 "metadata": {
  "kernelspec": {
   "display_name": "Python 3",
   "language": "python",
   "name": "python3"
  },
  "language_info": {
   "codemirror_mode": {
    "name": "ipython",
    "version": 3
   },
   "file_extension": ".py",
   "mimetype": "text/x-python",
   "name": "python",
   "nbconvert_exporter": "python",
   "pygments_lexer": "ipython3",
   "version": "3.6.3"
  }
 },
 "nbformat": 4,
 "nbformat_minor": 1
}
