{
 "cells": [
  {
   "cell_type": "code",
   "execution_count": 1,
   "metadata": {
    "collapsed": true
   },
   "outputs": [],
   "source": [
    "# -*- coding:utf-8 -*-\n",
    "# author : apollo2mars@gmail.com\n",
    "# do some experiment with random forest\n",
    "# ref : http://sklearn.apachecn.org/cn/0.19.0/modules/classes.html#module-sklearn.tree"
   ]
  },
  {
   "cell_type": "code",
   "execution_count": 2,
   "metadata": {},
   "outputs": [
    {
     "name": "stderr",
     "output_type": "stream",
     "text": [
      "Using TensorFlow backend.\n",
      "/home/apollo/softwares/anaconda3/lib/python3.6/importlib/_bootstrap.py:219: RuntimeWarning: compiletime version 3.5 of module 'tensorflow.python.framework.fast_tensor_util' does not match runtime version 3.6\n",
      "  return f(*args, **kwds)\n"
     ]
    }
   ],
   "source": [
    "from keras.datasets import mnist"
   ]
  },
  {
   "cell_type": "code",
   "execution_count": 3,
   "metadata": {
    "collapsed": true
   },
   "outputs": [],
   "source": [
    "def func(X_test, y_test):\n",
    "    ## predict\n",
    "    y_prd = clf.predict(X_test)\n",
    "\n",
    "    ## accuracy\n",
    "    from sklearn.metrics import accuracy_score\n",
    "    print(accuracy_score(y_test, y_prd))\n",
    "\n",
    "    ## P R F1\n",
    "    from sklearn.metrics import precision_score, recall_score, f1_score, precision_recall_curve\n",
    "    print(precision_score(y_test, y_prd, average='macro'))\n",
    "    print(recall_score(y_test, y_prd, average='macro'))\n",
    "    print(f1_score(y_test, y_prd, average='macro'))\n",
    "\n",
    "    ## confusion_matrix\n",
    "    from sklearn.metrics import confusion_matrix\n",
    "    print(confusion_matrix(y_test, y_prd))\n",
    "\n",
    "    ## 绘图\n",
    "    importances = clf.feature_importances_\n",
    "    importances = importances.reshape((28, 28))\n",
    "    import matplotlib.pyplot as plt\n",
    "    plt.matshow(importances, cmap=plt.cm.hot)\n",
    "    plt.title(\"Pixel importances for decision tree\")\n",
    "    plt.show()"
   ]
  },
  {
   "cell_type": "code",
   "execution_count": 4,
   "metadata": {
    "collapsed": true
   },
   "outputs": [],
   "source": [
    "img_rows, img_cols = 28, 28\n",
    "(X_train, y_train), (X_test, y_test) = mnist.load_data()\n",
    "X_train = X_train.reshape(X_train.shape[0], img_rows, img_cols, 1)\n",
    "X_test = X_test.reshape(X_test.shape[0], img_rows, img_cols, 1)\n",
    "input_shape = (img_rows, img_cols, 1)"
   ]
  },
  {
   "cell_type": "code",
   "execution_count": 5,
   "metadata": {},
   "outputs": [
    {
     "name": "stdout",
     "output_type": "stream",
     "text": [
      "X_train shape: (60000, 28, 28, 1)\n",
      "60000 train samples\n",
      "10000 test samples\n"
     ]
    }
   ],
   "source": [
    "X_train = X_train.astype('float32')\n",
    "X_test = X_test.astype('float32')\n",
    "X_train /= 255\n",
    "X_test /= 255\n",
    "\n",
    "print('X_train shape:', X_train.shape)\n",
    "print(X_train.shape[0], 'train samples')\n",
    "print(X_test.shape[0], 'test samples')"
   ]
  },
  {
   "cell_type": "code",
   "execution_count": 6,
   "metadata": {
    "scrolled": true
   },
   "outputs": [
    {
     "name": "stdout",
     "output_type": "stream",
     "text": [
      "X_train shape: (60000, 784)\n",
      "(60000, 784) train samples\n",
      "X_test shape: (10000, 784)\n",
      "(10000, 784) test samples\n"
     ]
    }
   ],
   "source": [
    "X_train = X_train.reshape(X_train.shape[0], -1)\n",
    "X_test = X_test.reshape(X_test.shape[0], -1)\n",
    "\n",
    "print('X_train shape:', X_train.shape)\n",
    "print(X_train.shape, 'train samples')\n",
    "print('X_test shape:', X_test.shape)\n",
    "print(X_test.shape, 'test samples')"
   ]
  },
  {
   "cell_type": "code",
   "execution_count": 7,
   "metadata": {},
   "outputs": [
    {
     "name": "stdout",
     "output_type": "stream",
     "text": [
      "test scores is 0.8773\n",
      "0.8773\n",
      "0.875858055572\n",
      "0.875854557069\n",
      "0.875809947869\n",
      "[[ 918    0    7    7    5    8   15    4    7    9]\n",
      " [   0 1090    7    7    2    5    6    2   14    2]\n",
      " [  11    8  878   40   17   13   10   20   26    9]\n",
      " [   8    5   31  853   10   47    3   10   23   20]\n",
      " [   4    1    8    4  853   10   16   11   25   50]\n",
      " [  11    4    5   42    5  751   20    7   31   16]\n",
      " [  17    4   11    8   21   19  852    2   20    4]\n",
      " [   3    9   27   17   11    7    0  928    9   17]\n",
      " [  13    3   26   36   21   30   18    8  792   27]\n",
      " [  13    2    6   19   43   11    5   21   31  858]]\n"
     ]
    },
    {
     "data": {
      "image/png": "[encoded data removed]",
      "text/plain": [
       "<matplotlib.figure.Figure at 0x7f61d74b3a90>"
      ]
     },
     "metadata": {},
     "output_type": "display_data"
    }
   ],
   "source": [
    "# Decision Tree\n",
    "from sklearn.tree import DecisionTreeClassifier\n",
    "clf = DecisionTreeClassifier()\n",
    "clf.fit(X_train, y_train)\n",
    "scores = clf.score(X_test, y_test)\n",
    "print('test scores is {}'.format(scores))\n",
    "func(X_test, y_test)"
   ]
  },
  {
   "cell_type": "code",
   "execution_count": 8,
   "metadata": {},
   "outputs": [
    {
     "name": "stdout",
     "output_type": "stream",
     "text": [
      "test scores is 0.9247\n",
      "0.9247\n",
      "0.924879284083\n",
      "0.923687730938\n",
      "0.923914266232\n",
      "[[ 962    1    0    0    1    5    4    1    5    1]\n",
      " [   0 1118    5    3    0    3    2    0    4    0]\n",
      " [   7    4  947   13    6    1   14   16   17    7]\n",
      " [   5    2   14  912    2   29    0   13   20   13]\n",
      " [   4    1    2    1  880    3   11    1    9   70]\n",
      " [   8    6    3   32    8  785   12    4   17   17]\n",
      " [  14    3    2    0    4    6  923    2    4    0]\n",
      " [   2    9   25    2   11    0    1  922    8   48]\n",
      " [   3    7    9   16   17   11   11    4  874   22]\n",
      " [   4    6    4   13   24    7    2   11   14  924]]\n"
     ]
    },
    {
     "data": {
      "image/png": "[encoded data removed]",
      "text/plain": [
       "<matplotlib.figure.Figure at 0x7f614d127588>"
      ]
     },
     "metadata": {},
     "output_type": "display_data"
    }
   ],
   "source": [
    "# random forest\n",
    "# https://blog.csdn.net/u012102306/article/details/52228516\n",
    "from sklearn.ensemble import RandomForestClassifier\n",
    "clf = RandomForestClassifier(max_depth=10, random_state=0)\n",
    "clf.fit(X_train, y_train)\n",
    "scores = clf.score(X_test, y_test)\n",
    "print('test scores is {}'.format(scores))\n",
    "func(X_test, y_test)"
   ]
  },
  {
   "cell_type": "code",
   "execution_count": 9,
   "metadata": {
    "scrolled": true
   },
   "outputs": [
    {
     "name": "stdout",
     "output_type": "stream",
     "text": [
      "test scores is 0.7299\n",
      "0.7299\n",
      "0.726341980857\n",
      "0.726809063202\n",
      "0.723022792946\n",
      "[[ 883    0   25    3    4   28   23    3    3    8]\n",
      " [   0 1070    3    8    3    1    4   25   21    0]\n",
      " [  30   35  596   32   18    8  208   25   75    5]\n",
      " [  28   32   19  678    2   92   30   33   74   22]\n",
      " [   4    2   17   14  708   16   10   80   35   96]\n",
      " [  29   32    6  122   27  526   22   19   71   38]\n",
      " [  20   10   35    6   26   32  822    1    6    0]\n",
      " [   7   16   23    8   14    7    1  804   20  128]\n",
      " [  40   48   11   91   15   34   22   18  661   34]\n",
      " [   9   11   23   32  161   18    1  169   34  551]]\n"
     ]
    },
    {
     "data": {
      "image/png": "[encoded data removed]",
      "text/plain": [
       "<matplotlib.figure.Figure at 0x7f614d63ea20>"
      ]
     },
     "metadata": {},
     "output_type": "display_data"
    }
   ],
   "source": [
    "## adaboost\n",
    "from sklearn.ensemble import AdaBoostClassifier\n",
    "clf = AdaBoostClassifier()\n",
    "clf.fit(X_train, y_train)\n",
    "scores = clf.score(X_test, y_test)\n",
    "print('test scores is {}'.format(scores))\n",
    "func(X_test, y_test)"
   ]
  },
  {
   "cell_type": "code",
   "execution_count": 10,
   "metadata": {},
   "outputs": [
    {
     "name": "stdout",
     "output_type": "stream",
     "text": [
      "test scores is 0.9487\n",
      "0.9487\n",
      "0.948410297773\n",
      "0.948181456856\n",
      "0.948216163977\n",
      "[[ 966    0    1    0    0    3    4    2    4    0]\n",
      " [   0 1120    3    1    1    1    4    0    5    0]\n",
      " [   9    0  963   12    8    1    6   12   18    3]\n",
      " [   0    0   11  951    1   11    1   12   14    9]\n",
      " [   0    0    3    0  936    1    6    1    7   28]\n",
      " [   3    2    1   20    2  826   11    3   14   10]\n",
      " [   7    3    0    0    8   14  921    0    5    0]\n",
      " [   2    9   24    7    4    2    0  951    5   24]\n",
      " [   5    4    3   11    8    7    5    5  912   14]\n",
      " [   7    8    2   13   20    6    0    6    6  941]]\n"
     ]
    },
    {
     "data": {
      "image/png": "[encoded data removed]",
      "text/plain": [
       "<matplotlib.figure.Figure at 0x7f614d1497f0>"
      ]
     },
     "metadata": {},
     "output_type": "display_data"
    }
   ],
   "source": [
    "## GBDT\n",
    "from sklearn.ensemble import GradientBoostingClassifier\n",
    "clf = GradientBoostingClassifier()\n",
    "clf.fit(X_train, y_train)\n",
    "scores = clf.score(X_test, y_test)\n",
    "print('test scores is {}'.format(scores))\n",
    "func(X_test, y_test)"
   ]
  },
  {
   "cell_type": "code",
   "execution_count": 1,
   "metadata": {},
   "outputs": [
    {
     "ename": "ModuleNotFoundError",
     "evalue": "No module named 'xgboost'",
     "output_type": "error",
     "traceback": [
      "\u001b[0;31m-------------------------------------------------------------------\u001b[0m",
      "\u001b[0;31mModuleNotFoundError\u001b[0m               Traceback (most recent call last)",
      "\u001b[0;32m<ipython-input-1-19e9ec9bcd90>\u001b[0m in \u001b[0;36m<module>\u001b[0;34m()\u001b[0m\n\u001b[1;32m      1\u001b[0m \u001b[0;31m## XGboost\u001b[0m\u001b[0;34m\u001b[0m\u001b[0;34m\u001b[0m\u001b[0m\n\u001b[0;32m----> 2\u001b[0;31m \u001b[0;32mimport\u001b[0m \u001b[0mxgboost\u001b[0m \u001b[0;32mas\u001b[0m \u001b[0mxgb\u001b[0m\u001b[0;34m\u001b[0m\u001b[0m\n\u001b[0m\u001b[1;32m      3\u001b[0m \u001b[0;32mimport\u001b[0m \u001b[0mnumpy\u001b[0m \u001b[0;32mas\u001b[0m \u001b[0mnp\u001b[0m\u001b[0;34m\u001b[0m\u001b[0m\n\u001b[1;32m      4\u001b[0m \u001b[0;31m# read in data\u001b[0m\u001b[0;34m\u001b[0m\u001b[0;34m\u001b[0m\u001b[0m\n\u001b[1;32m      5\u001b[0m \u001b[0;31m# dtrain = xgb.DMatrix('demo/data/agaricus.txt.train')\u001b[0m\u001b[0;34m\u001b[0m\u001b[0;34m\u001b[0m\u001b[0m\n",
      "\u001b[0;31mModuleNotFoundError\u001b[0m: No module named 'xgboost'"
     ]
    }
   ],
   "source": [
    "## XGboost\n",
    "import xgboost as xgb\n",
    "import numpy as np\n",
    "# read in data\n",
    "# dtrain = xgb.DMatrix('demo/data/agaricus.txt.train')\n",
    "# dtest = xgb.DMatrix('demo/data/agaricus.txt.test')\n",
    "# specify parameters via map\n",
    "param = {'max_depth':2, 'eta':1, 'silent':1, 'objective':'binary:logistic' }\n",
    "num_round = 2\n",
    "clf = xgb.train(param, X_train, y_train)\n",
    "func(X_test, y_test)"
   ]
  },
  {
   "cell_type": "code",
   "execution_count": 15,
   "metadata": {},
   "outputs": [
    {
     "name": "stdout",
     "output_type": "stream",
     "text": [
      "[1]\tvalid_0's auc: 0.99033\tvalid_0's l2: 23.7407\n",
      "Training until validation scores don't improve for 5 rounds.\n",
      "[2]\tvalid_0's auc: 0.992588\tvalid_0's l2: 23.5572\n",
      "[3]\tvalid_0's auc: 0.993073\tvalid_0's l2: 23.3836\n",
      "[4]\tvalid_0's auc: 0.996868\tvalid_0's l2: 23.2208\n",
      "[5]\tvalid_0's auc: 0.996931\tvalid_0's l2: 23.0658\n",
      "[6]\tvalid_0's auc: 0.996901\tvalid_0's l2: 22.9196\n",
      "[7]\tvalid_0's auc: 0.996907\tvalid_0's l2: 22.7817\n",
      "[8]\tvalid_0's auc: 0.997538\tvalid_0's l2: 22.651\n",
      "[9]\tvalid_0's auc: 0.997597\tvalid_0's l2: 22.5273\n",
      "[10]\tvalid_0's auc: 0.997628\tvalid_0's l2: 22.4101\n",
      "[11]\tvalid_0's auc: 0.997938\tvalid_0's l2: 22.2991\n",
      "[12]\tvalid_0's auc: 0.99795\tvalid_0's l2: 22.1937\n",
      "[13]\tvalid_0's auc: 0.997957\tvalid_0's l2: 22.0941\n",
      "[14]\tvalid_0's auc: 0.997928\tvalid_0's l2: 21.9997\n",
      "[15]\tvalid_0's auc: 0.997951\tvalid_0's l2: 21.9104\n",
      "[16]\tvalid_0's auc: 0.998071\tvalid_0's l2: 21.826\n",
      "[17]\tvalid_0's auc: 0.998126\tvalid_0's l2: 21.7454\n",
      "[18]\tvalid_0's auc: 0.998243\tvalid_0's l2: 21.669\n",
      "[19]\tvalid_0's auc: 0.998282\tvalid_0's l2: 21.5969\n",
      "[20]\tvalid_0's auc: 0.998261\tvalid_0's l2: 21.5285\n",
      "Did not meet early stopping. Best iteration is:\n",
      "[19]\tvalid_0's auc: 0.998282\tvalid_0's l2: 21.5969\n",
      "0.9487\n",
      "0.948410297773\n",
      "0.948181456856\n",
      "0.948216163977\n",
      "[[ 966    0    1    0    0    3    4    2    4    0]\n",
      " [   0 1120    3    1    1    1    4    0    5    0]\n",
      " [   9    0  963   12    8    1    6   12   18    3]\n",
      " [   0    0   11  951    1   11    1   12   14    9]\n",
      " [   0    0    3    0  936    1    6    1    7   28]\n",
      " [   3    2    1   20    2  826   11    3   14   10]\n",
      " [   7    3    0    0    8   14  921    0    5    0]\n",
      " [   2    9   24    7    4    2    0  951    5   24]\n",
      " [   5    4    3   11    8    7    5    5  912   14]\n",
      " [   7    8    2   13   20    6    0    6    6  941]]\n"
     ]
    },
    {
     "name": "stderr",
     "output_type": "stream",
     "text": [
      "Exception ignored in: <bound method Booster.__del__ of <xgboost.core.Booster object at 0x7f614cffc3c8>>\n",
      "Traceback (most recent call last):\n",
      "  File \"/home/apollo/softwares/anaconda3/lib/python3.6/site-packages/xgboost/core.py\", line 742, in __del__\n",
      "    if self.handle is not None:\n",
      "AttributeError: 'Booster' object has no attribute 'handle'\n"
     ]
    },
    {
     "data": {
      "image/png": "[encoded data removed]",
      "text/plain": [
       "<matplotlib.figure.Figure at 0x7f614d068390>"
      ]
     },
     "metadata": {},
     "output_type": "display_data"
    }
   ],
   "source": [
    "## LightGBM\n",
    "# https://blog.csdn.net/luoyexuge/article/details/72956491\n",
    "import lightgbm as lgb\n",
    "lgb_train = lgb.Dataset(X_train, y_train)\n",
    "lgb_eval = lgb.Dataset(X_test, y_test, reference=lgb_train)\n",
    "\n",
    "params = {\n",
    "    'task': 'train',\n",
    "    'boosting_type': 'gbdt',\n",
    "    'objective': 'binary',\n",
    "    'metric': {'l2', 'auc'},\n",
    "    'num_leaves': 31,\n",
    "    'learning_rate': 0.05,\n",
    "    'feature_fraction': 0.9,\n",
    "    'bagging_fraction': 0.8,\n",
    "    'bagging_freq': 5,\n",
    "    'verbose': 0\n",
    "}\n",
    "gbm = lgb.train(params,\n",
    "                lgb_train,\n",
    "                num_boost_round=20,\n",
    "                valid_sets=lgb_eval,\n",
    "                early_stopping_rounds=5)\n",
    "func(X_test, y_test)"
   ]
  },
  {
   "cell_type": "code",
   "execution_count": null,
   "metadata": {
    "collapsed": true
   },
   "outputs": [],
   "source": [
    "# ## P R F1\n",
    "# from sklearn.metrics import precision_score, recall_score, f1_score, precision_recall_curve\n",
    "# # p, r, threholds = precision_recall_curve(y_test, y_prd) ## 只能用在二值分类上 \n",
    "# # print(\" p is {}, r is {}, threholds is \".format(p, r, threholds))\n",
    "\n",
    "# print(precision_score(y_test, y_prd, average='macro'))\n",
    "# print(recall_score(y_test, y_prd, average='macro'))\n",
    "# print(f1_score(y_test, y_prd, average='macro'))\n",
    "\n",
    "# ## average precesion\n",
    "# # multiclass format is not supported\n",
    "# # from sklearn.metrics import average_precision_score\n",
    "# # print(average_precision_score(y_test, y_prd))\n",
    "\n",
    "# ## P R F1\n",
    "# ## 只能用在二值分类上 \n",
    "# from sklearn.metrics import precision_score, recall_score, f1_score, precision_recall_curve\n",
    "# p, r, threholds = precision_recall_curve(y_test, y_prd)\n",
    "# print(\" p is {}, r is {}, threholds is \".format(p, r, threholds))\n",
    "\n",
    "## roc auc 只能用在二值分类上 \n",
    "# from sklearn import metrics\n",
    "# fpr, tpr, thresholds = metrics.roc_curve(y_test, y_prd)\n",
    "# print(metrics(fpr,tpr))"
   ]
  },
  {
   "cell_type": "code",
   "execution_count": null,
   "metadata": {
    "collapsed": true
   },
   "outputs": [],
   "source": [
    "## 保存\n",
    "dot_data = StringIO.StringIO()\n",
    "tree.export_graphviz(clf, out_file=dot_data)\n",
    "graph = pydotplus.graph_from_dot_data(dot_data.getvalue())\n",
    "graph.write_pdf(\"Dtree.pdf\")\n",
    "print \"The Decision Tree was saved!\""
   ]
  }
 ],
 "metadata": {
  "kernelspec": {
   "display_name": "Python 3",
   "language": "python",
   "name": "python3"
  },
  "language_info": {
   "codemirror_mode": {
    "name": "ipython",
    "version": 3
   },
   "file_extension": ".py",
   "mimetype": "text/x-python",
   "name": "python",
   "nbconvert_exporter": "python",
   "pygments_lexer": "ipython3",
   "version": "3.6.3"
  }
 },
 "nbformat": 4,
 "nbformat_minor": 1
}