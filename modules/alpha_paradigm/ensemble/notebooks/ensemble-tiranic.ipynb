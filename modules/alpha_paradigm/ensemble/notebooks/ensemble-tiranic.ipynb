{
 "cells": [
  {
   "cell_type": "code",
   "execution_count": null,
   "metadata": {},
   "outputs": [],
   "source": [
    "# data \n",
    "# http://biostat.mc.vanderbilt.edu/wiki/pub/Main/DataSets/titanic.txt"
   ]
  },
  {
   "cell_type": "code",
   "execution_count": null,
   "metadata": {},
   "outputs": [],
   "source": [
    "# -*- coding: utf-8 -*-\n",
    "\"\"\"\n",
    "泰坦尼克号乘客生还情况预测\n",
    "\n",
    "模型\n",
    "决策树\n",
    "\"\"\"\n",
    "\n",
    "# 导入pandas用于数据分析。\n",
    "import pandas as pd\n",
    "# 利用pandas的read_csv模块直接从互联网收集泰坦尼克号乘客数据。\n",
    "titanic = pd.read_csv('titanic.txt')\n",
    "\n",
    "# 机器学习有一个不太被初学者重视，并且耗时，但是十分重要的一环，特征的选择，这个需要基于一些背景知识。根据我们对这场事故的了解，sex, age, pclass这些都很有可能是决定幸免与否的关键因素。\n",
    "X = titanic[['pclass', 'age', 'sex']]\n",
    "y = titanic['survived']\n",
    "\n",
    "# 首先我们补充age里的数据，使用平均数或者中位数都是对模型偏离造成最小影响的策略。\n",
    "X['age'].fillna(X['age'].mean(), inplace=True)\n",
    "\n",
    "\n",
    "# 数据分割。\n",
    "from sklearn.cross_validation import train_test_split\n",
    "X_train, X_test, y_train, y_test = train_test_split(X, y, test_size=0.25, random_state=33)\n",
    "\n",
    "# 我们使用scikit-learn.feature_extraction中的特征转换器，详见3.1.1.1特征抽取。\n",
    "from sklearn.feature_extraction import DictVectorizer\n",
    "vec = DictVectorizer(sparse=False)\n",
    "\n",
    "# 转换特征后，我们发现凡是类别型的特征都单独剥离出来，独成一列特征，数值型的则保持不变。\n",
    "X_train = vec.fit_transform(X_train.to_dict(orient='record'))\n",
    "\n",
    "# 同样需要对测试数据的特征进行转换。\n",
    "X_test = vec.transform(X_test.to_dict(orient='record'))\n",
    "\n",
    "\n",
    "# 从sklearn.tree中导入决策树分类器。\n",
    "from sklearn.tree import DecisionTreeClassifier\n",
    "# 使用默认配置初始化决策树分类器。\n",
    "dtc = DecisionTreeClassifier()\n",
    "# 使用分割到的训练数据进行模型学习。\n",
    "dtc.fit(X_train, y_train)\n",
    "# 用训练好的决策树模型对测试特征数据进行预测。\n",
    "y_predict = dtc.predict(X_test)\n",
    "\n",
    "\n",
    "# 从sklearn.metrics导入classification_report。\n",
    "from sklearn.metrics import classification_report\n",
    "# 输出预测准确性。\n",
    "print(dtc.score(X_test, y_test))\n",
    "# 输出更加详细的分类性能。\n",
    "print(classification_report(y_predict, y_test, target_names = ['died', 'survived']))"
   ]
  }
 ],
 "metadata": {
  "kernelspec": {
   "display_name": "Python 3",
   "language": "python",
   "name": "python3"
  },
  "language_info": {
   "codemirror_mode": {
    "name": "ipython",
    "version": 3
   },
   "file_extension": ".py",
   "mimetype": "text/x-python",
   "name": "python",
   "nbconvert_exporter": "python",
   "pygments_lexer": "ipython3",
   "version": "3.6.3"
  }
 },
 "nbformat": 4,
 "nbformat_minor": 2
}
