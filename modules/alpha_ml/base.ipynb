{
 "cells": [
  {
   "cell_type": "code",
   "execution_count": 3,
   "metadata": {},
   "outputs": [
    {
     "name": "stdout",
     "output_type": "stream",
     "text": [
      "\tgrad: 1 2 -3.0\n",
      "\tgrad: 1.8 4 -9.215999603271484\n",
      "\tgrad: 2.5 6.9 -12.980001449584961\n",
      "\tgrad: 3.0 7.5 9.35280990600586\n",
      "progress: 0 2.0843193531036377 2.4298624992370605\n",
      "\tgrad: 1 2 0.1686387062072754\n",
      "\tgrad: 1.8 4 -1.0028886795043945\n",
      "\tgrad: 2.5 6.9 -7.403194904327393\n",
      "\tgrad: 3.0 7.5 7.345149993896484\n",
      "progress: 1 2.173548936843872 1.4986451864242554\n",
      "\tgrad: 1 2 0.34709787368774414\n",
      "\tgrad: 1.8 4 -0.5403221845626831\n",
      "\tgrad: 2.5 6.9 -7.089107036590576\n",
      "\tgrad: 3.0 7.5 7.232082366943359\n",
      "progress: 2 2.1785740852355957 1.4528615474700928\n",
      "\tgrad: 1 2 0.3571481704711914\n",
      "\tgrad: 1.8 4 -0.5142725706100464\n",
      "\tgrad: 2.5 6.9 -7.071418762207031\n",
      "\tgrad: 3.0 7.5 7.225713729858398\n",
      "progress: 3 2.1788570880889893 1.4503039121627808\n",
      "\tgrad: 1 2 0.3577141761779785\n",
      "\tgrad: 1.8 4 -0.5128048658370972\n",
      "\tgrad: 2.5 6.9 -7.070422172546387\n",
      "\tgrad: 3.0 7.5 7.225353240966797\n",
      "progress: 4 2.178873062133789 1.4501591920852661\n",
      "predict (after training) 4 8.715492248535156\n"
     ]
    },
    {
     "data": {
      "image/png": "[encoded data removed]",
      "text/plain": [
       "<Figure size 432x288 with 1 Axes>"
      ]
     },
     "metadata": {
      "needs_background": "light"
     },
     "output_type": "display_data"
    }
   ],
   "source": [
    "import matplotlib.pyplot as plt\n",
    "import torch\n",
    "\n",
    "# y = w*x\n",
    "x_data = [1, 1.8, 2.5, 3.0]\n",
    "y_data = [2, 4, 6.9, 7.5]\n",
    " \n",
    "loss_list = []\n",
    "w = torch.Tensor([0.5])\n",
    "w.requires_grad = True\n",
    " \n",
    "def forward(x):\n",
    "    return x * w        #W是tensor，tensor的运算后是建立计算图\n",
    " \n",
    "def loss(x, y):\n",
    "    y_pre = forward(x)\n",
    "    return (y-y_pre)**2\n",
    " \n",
    "for epoch in range(5):\n",
    "    for x, y in zip(x_data, y_data):\n",
    "        l = loss(x, y)      #建立计算图\n",
    "        l.backward()        #每次调用backward后，计算图消失\n",
    "        print('\\tgrad:', x, y, w.grad.item())\n",
    "        w.data = w.data - 0.1 * w.grad.data  #W是tensor,.data属性和W.grad.data也是tensor，但其不建立计算图\n",
    " \n",
    "        w.grad.data.zero_()     #防止w的梯度累加起来,因此需要清空\n",
    " \n",
    "    loss_list.append(l.item()) #item()将tensor转换成标量\n",
    "    print('progress:', epoch, w.item(), l.item())\n",
    "print(\"predict (after training)\", 4, forward(4).item())\n",
    " \n",
    "plt.plot(loss_list)\n",
    "plt.ylabel('loss')\n",
    "plt.show()"
   ]
  }
 ],
 "metadata": {
  "kernelspec": {
   "display_name": "Python 3.9.18 64-bit ('py39_torch2': conda)",
   "language": "python",
   "name": "python3"
  },
  "language_info": {
   "codemirror_mode": {
    "name": "ipython",
    "version": 3
   },
   "file_extension": ".py",
   "mimetype": "text/x-python",
   "name": "python",
   "nbconvert_exporter": "python",
   "pygments_lexer": "ipython3",
   "version": "3.9.18-final"
  },
  "orig_nbformat": 4,
  "vscode": {
   "interpreter": {
    "hash": "6a37b54f6a970762c9ecc184a7b61be9e37618edec58828662a4d18f9292d843"
   }
  }
 },
 "nbformat": 4,
 "nbformat_minor": 2
}
