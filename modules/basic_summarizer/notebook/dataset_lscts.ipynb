{
 "cells": [
  {
   "cell_type": "markdown",
   "metadata": {},
   "source": [
    "# LSCTS\n",
    "+ large scale Chinese short text summarization dataset)\n",
    "+ 中文社交媒体文本，LCSTS数据集的特点是文本篇幅较短，并且存在噪声\n",
    "+ 训练集大小\t2400000\n",
    "+ 验证集大小\t10000\n",
    "+ 测试集大小\t1000"
   ]
  },
  {
   "cell_type": "code",
   "execution_count": 1,
   "metadata": {},
   "outputs": [
    {
     "name": "stderr",
     "output_type": "stream",
     "text": [
      "/home/users/sunhongchao/miniconda3/envs/bot-mvp/lib/python3.6/site-packages/tqdm/auto.py:22: TqdmWarning: IProgress not found. Please update jupyter and ipywidgets. See https://ipywidgets.readthedocs.io/en/stable/user_install.html\n",
      "  from .autonotebook import tqdm as notebook_tqdm\n"
     ]
    }
   ],
   "source": [
    "import torch\n",
    "from transformers import AutoModelForSeq2SeqLM, AutoTokenizer \n",
    "\n",
    "model = None\n",
    "tokenizer = None\n",
    "device = \"cuda\" if torch.cuda.is_available() else \"cpu\" \n",
    "\n",
    "with torch.no_grad():\n",
    "    # model_ckpt = \"google/pegasus-cnn_dailymail\" \n",
    "    model_ckpt = '../../../resources/embedding/google_pegasus-cnn-dm'\n",
    "    tokenizer = AutoTokenizer.from_pretrained(model_ckpt) \n",
    "    model = AutoModelForSeq2SeqLM.from_pretrained(model_ckpt).to(device) "
   ]
  },
  {
   "cell_type": "code",
   "execution_count": 2,
   "metadata": {},
   "outputs": [
    {
     "name": "stderr",
     "output_type": "stream",
     "text": [
      "/home/users/sunhongchao/miniconda3/envs/bot-mvp/lib/python3.6/site-packages/pandas/io/parsers.py:767: ParserWarning: Falling back to the 'python' engine because the 'c' engine does not support regex separators (separators > 1 char and different from '\\s+' are interpreted as regex); you can avoid this warning by specifying engine='python'.\n",
      "  return read_csv(**locals())\n"
     ]
    }
   ],
   "source": [
    "import datasets\n",
    "import pandas as pd\n",
    "from datasets import Dataset, load_dataset\n",
    "\n",
    "# from transformers import BertTokenizer\n",
    "# TokenModel = \"../../../resources/embedding/t5-large\"\n",
    "# tokenizer = BertTokenizer.from_pretrained(TokenModel)\n",
    "\n",
    "max_input_length = 512\n",
    "max_target_length = 128\n",
    " \n",
    "lcsts_part_1=pd.read_table('../../../resources/dataset/lscts/DATA/PART_II.txt', header=None,\n",
    "                           warn_bad_lines=True, error_bad_lines=False, sep='<[/d|/s|do|su|sh][^a].*>', encoding='utf-8') # PART I  too big, use PART II instead\n",
    "lcsts_part_1=lcsts_part_1[0].dropna()\n",
    "lcsts_part_1=lcsts_part_1.reset_index(drop=True)\n",
    "lcsts_part_1=pd.concat([lcsts_part_1[1::2].reset_index(drop=True), lcsts_part_1[::2].reset_index(drop=True)], axis=1)\n",
    "lcsts_part_1.columns=['document', 'summary']\n",
    " \n",
    "lcsts_part_2=pd.read_table('../../../resources/dataset/lscts/DATA/PART_II.txt', header=None,\n",
    "                           warn_bad_lines=True, error_bad_lines=False, sep='<[/d|/s|do|su|sh][^a].*>', encoding='utf-8')\n",
    "lcsts_part_2=lcsts_part_2[0].dropna()\n",
    "lcsts_part_2=lcsts_part_2.reset_index(drop=True)\n",
    "lcsts_part_2=pd.concat([lcsts_part_2[1::2].reset_index(drop=True), lcsts_part_2[::2].reset_index(drop=True)], axis=1)\n",
    "lcsts_part_2.columns=['document', 'summary']\n",
    " \n",
    "dataset_train = Dataset.from_dict(lcsts_part_1)\n",
    "dataset_valid = Dataset.from_dict(lcsts_part_2)\n",
    "\n",
    "d_len = [len(tokenizer.encode(s['document'])) for s in dataset_train] \n",
    "s_len = [len(tokenizer.encode(s['summary'])) for s in dataset_train] "
   ]
  },
  {
   "cell_type": "code",
   "execution_count": 3,
   "metadata": {},
   "outputs": [
    {
     "data": {
      "image/png": "[encoded data removed]",
      "text/plain": [
       "<Figure size 720x252 with 2 Axes>"
      ]
     },
     "metadata": {
      "needs_background": "light"
     },
     "output_type": "display_data"
    }
   ],
   "source": [
    "import matplotlib.pyplot as plt\n",
    "fig, axes = plt.subplots(1, 2, figsize=(10, 3.5), sharey=True)\n",
    "axes[0].hist(d_len, bins=20, color=\"C0\", edgecolor=\"C0\") \n",
    "axes[0].set_title(\"Dialogue Token Length\") \n",
    "axes[0].set_xlabel(\"Length\") \n",
    "axes[0].set_ylabel(\"Count\") \n",
    "axes[1].hist(s_len, bins=20, color=\"C0\", edgecolor=\"C0\") \n",
    "axes[1].set_title(\"Summary Token Length\") \n",
    "axes[1].set_xlabel(\"Length\") \n",
    "plt.tight_layout() "
   ]
  },
  {
   "cell_type": "code",
   "execution_count": 4,
   "metadata": {},
   "outputs": [
    {
     "name": "stderr",
     "output_type": "stream",
     "text": [
      "100%|██████████| 11/11 [00:00<00:00, 18.97ba/s]\n",
      "100%|██████████| 11/11 [00:00<00:00, 13.97ba/s]"
     ]
    },
    {
     "name": "stdout",
     "output_type": "stream",
     "text": [
      "DatasetDict({\n",
      "    train: Dataset({\n",
      "        features: ['document', 'summary', 'input_ids', 'attention_mask', 'labels'],\n",
      "        num_rows: 10666\n",
      "    })\n",
      "    validation: Dataset({\n",
      "        features: ['document', 'summary', 'input_ids', 'attention_mask', 'labels'],\n",
      "        num_rows: 10666\n",
      "    })\n",
      "})\n",
      "{'document': '日前，方舟子发文直指林志颖旗下爱碧丽推销假保健品，引起哗然。调查发现，爱碧丽没有自己的生产加工厂。其胶原蛋白饮品无核心研发，全部代工生产。号称有“逆生长”功效的爱碧丽“梦幻奇迹限量组”售价高达1080元，实际成本仅为每瓶4元！', 'summary': '林志颖公司疑涉虚假营销无厂房无研发', 'input_ids': [110, 105, 108, 105, 108, 105, 108, 105, 108, 105, 468, 105, 227, 105, 468, 105, 227, 105, 32936, 105, 108, 105, 914, 105, 147, 1], 'attention_mask': [1, 1, 1, 1, 1, 1, 1, 1, 1, 1, 1, 1, 1, 1, 1, 1, 1, 1, 1, 1, 1, 1, 1, 1, 1, 1], 'labels': [110, 105, 1]}\n"
     ]
    },
    {
     "name": "stderr",
     "output_type": "stream",
     "text": [
      "\n"
     ]
    }
   ],
   "source": [
    "def preprocess_function(examples):\n",
    "    inputs = [str(doc) for doc in examples[\"document\"]]\n",
    "    model_inputs = tokenizer(inputs, max_length=max_input_length, truncation=True)\n",
    "    inputs = [str(doc) for doc in examples[\"summary\"]]\n",
    "    # Setup the tokenizer for targets\n",
    "    with tokenizer.as_target_tokenizer():\n",
    "        labels = tokenizer(inputs, max_length=max_target_length, truncation=True)\n",
    " \n",
    "    model_inputs[\"labels\"] = labels[\"input_ids\"]\n",
    "    return model_inputs\n",
    "\n",
    "tokenized_datasets_t = dataset_train.map(preprocess_function, batched=True)\n",
    "tokenized_datasets_v = dataset_valid.map(preprocess_function, batched=True)\n",
    " \n",
    "tokenized_datasets = datasets.DatasetDict({\"train\":tokenized_datasets_t,\"validation\": tokenized_datasets_v})\n",
    "print(tokenized_datasets)\n",
    "print(tokenized_datasets['train'][0])"
   ]
  }
 ],
 "metadata": {
  "kernelspec": {
   "display_name": "Python 3.6.13 ('bot-mvp')",
   "language": "python",
   "name": "python3"
  },
  "language_info": {
   "codemirror_mode": {
    "name": "ipython",
    "version": 3
   },
   "file_extension": ".py",
   "mimetype": "text/x-python",
   "name": "python",
   "nbconvert_exporter": "python",
   "pygments_lexer": "ipython3",
   "version": "3.6.13"
  },
  "orig_nbformat": 4,
  "vscode": {
   "interpreter": {
    "hash": "4632cd8377e743b0d90da04eeb35bbed8ec5d08da721a48d0317015ab0d939e0"
   }
  }
 },
 "nbformat": 4,
 "nbformat_minor": 2
}
