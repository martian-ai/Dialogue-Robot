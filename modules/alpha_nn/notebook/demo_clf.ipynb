{
 "cells": [
  {
   "cell_type": "code",
   "execution_count": 1,
   "metadata": {},
   "outputs": [
    {
     "name": "stdout",
     "output_type": "stream",
     "text": [
      "Better speed can be achieved with apex installed from https://www.github.com/nvidia/apex.\n"
     ]
    }
   ],
   "source": [
    "import logging\n",
    "import os\n",
    "import sys\n",
    "from time import localtime, strftime\n",
    "\n",
    "import torch\n",
    "import torch.nn as nn\n",
    "from torch.utils.data import DataLoader, random_split\n",
    "\n",
    "sys.path.append('../../..') \n",
    "\n",
    "from modules.alpha_nn.modeling_bert import BERT_CLF, BertConfig\n",
    "from modules.dataset_bert import CLFDataset\n",
    "from modules.utils.tokenizer.tokenization import Tokenizer4Bert\n",
    "\n",
    "logger = logging.getLogger()\n",
    "logger.setLevel(logging.INFO)\n",
    "logger.addHandler(logging.StreamHandler(sys.stdout))"
   ]
  },
  {
   "cell_type": "code",
   "execution_count": 2,
   "metadata": {
    "tags": []
   },
   "outputs": [],
   "source": [
    "max_seq_len = 32\n",
    "tokenizer_type = 'bert-base-chinese'\n",
    "bert_file = '../../../resources/embedding/bert-base-chinese'\n",
    "config_file = '../../../resources/embedding/bert-base-chinese/bert_config.json'\n",
    "device = torch.device('cuda' if torch.cuda.is_available() else 'cpu')\n",
    "tokenizer = Tokenizer4Bert(bert_file ,max_seq_len, True)\n",
    "batch_size = 64\n",
    "trainset = '../../../resources/dataset/classification/sentiment-3/test.tsv'\n",
    "testset = '../../../resources/dataset/classification/sentiment-3/test.tsv' \n",
    "valset = '../../../resources/dataset/classification/sentiment-3/test.tsv'\n",
    "label_dict = {'positive': 0, 'neutral': 1, 'negative': 2}\n"
   ]
  },
  {
   "cell_type": "code",
   "execution_count": 3,
   "metadata": {},
   "outputs": [],
   "source": [
    "trainset = CLFDataset(trainset, tokenizer, label_dict=label_dict, max_seq_len=max_seq_len)\n",
    "testset = CLFDataset(testset, tokenizer, label_dict=label_dict, max_seq_len=max_seq_len)\n",
    "valset = CLFDataset(valset, tokenizer, label_dict=label_dict, max_seq_len=max_seq_len)\n",
    "train_data_loader = DataLoader(dataset=trainset, batch_size=batch_size, shuffle=True, drop_last=True)\n",
    "test_data_loader = DataLoader(dataset=testset, batch_size=batch_size, shuffle=False, drop_last=True)\n",
    "val_data_loader = DataLoader(dataset=valset, batch_size=batch_size, shuffle=False, drop_last=True)"
   ]
  },
  {
   "cell_type": "code",
   "execution_count": 4,
   "metadata": {},
   "outputs": [],
   "source": [
    "class OPT:\n",
    "    def __init__(self):\n",
    "        self.dropout = 0.1\n",
    "        self.bert_dim = 768\n",
    "        self.clf_dim = 3\n",
    "\n",
    "opt = OPT()\n",
    "\n",
    "config = BertConfig(vocab_size_or_config_json_file=config_file)\n",
    "model = BERT_CLF(config, opt).to(device)\n",
    "_params = filter(lambda p: p.requires_grad, model.parameters())\n",
    "optimizer = torch.optim.Adam(_params, lr=5e-5, weight_decay=0.01)\n",
    "\n",
    "criterion = nn.CrossEntropyLoss()"
   ]
  },
  {
   "cell_type": "code",
   "execution_count": 5,
   "metadata": {},
   "outputs": [],
   "source": [
    "num_epoch = 100\n",
    "\n",
    "def _train(criterion, optimizer, train_data_loader, val_data_loader):\n",
    "    max_val_acc = 0\n",
    "    max_val_f1 = 0\n",
    "    max_val_epoch = 0\n",
    "    global_step = 0\n",
    "    path = None\n",
    "    for i_epoch in range(num_epoch):\n",
    "        logger.info('>' * 100)\n",
    "        n_correct, n_total, loss_total = 0, 0, 0\n",
    "        # switch model to training mode\n",
    "        model.train()\n",
    "        for i_batch, batch in enumerate(train_data_loader):\n",
    "            global_step += 1\n",
    "            # clear gradient accumulators\n",
    "            optimizer.zero_grad()\n",
    "            indice = batch[\"indice\"].to(device)\n",
    "            mask = batch[\"mask\"].to(device)\n",
    "            segment = batch[\"segment\"].to(device)\n",
    "            outputs = model(indice, mask, segment)\n",
    "            targets = batch['label'].to(device)\n",
    "            loss = criterion(outputs, targets)\n",
    "            loss.backward()\n",
    "            optimizer.step()\n",
    "            n_correct += (torch.argmax(outputs, -1) == targets).sum().item()\n",
    "            n_total += len(outputs)\n",
    "            loss_total += loss.item() * len(outputs)\n",
    "            # if global_step % 10 == 0:\n",
    "            #     train_acc = n_correct / n_total\n",
    "            #     train_loss = loss_total / n_total\n",
    "            #     logger.info('loss: {:.4f}, acc: {:.4f}'.format(train_loss, train_acc))\n",
    "\n",
    "        val_acc = _evaluate_clf_acc(val_data_loader)\n",
    "        logger.info('> val_acc: {:.4f}'.format(val_acc))\n",
    "        if val_acc > max_val_acc:\n",
    "            max_val_acc = val_acc\n",
    "            max_val_epoch = i_epoch\n",
    "            if not os.path.exists('state_dict'):  # TODO sava path 需要制定\n",
    "                os.mkdir('state_dict')\n",
    "            path = 'state_dict/{0}_{1}_val_acc_{2}'.format(\"BERT-CLF\", \"zhijian\", round(val_acc, 4))\n",
    "            torch.save(model.state_dict(), path)\n",
    "            logger.info('>> saved: {}'.format(path))\n",
    "        if i_epoch - max_val_epoch >= 3:\n",
    "            print('>> early stop.')\n",
    "            break\n",
    "\n",
    "    return path"
   ]
  },
  {
   "cell_type": "code",
   "execution_count": 6,
   "metadata": {},
   "outputs": [],
   "source": [
    "def _evaluate_clf_acc(data_loader):\n",
    "    n_correct, n_total = 0, 0\n",
    "    t_targets_all, t_outputs_all = None, None\n",
    "    model.eval() # switch model to evaluation mode\n",
    "    with torch.no_grad():\n",
    "        for i_batch, t_batch in enumerate(data_loader):\n",
    "            indice = t_batch[\"indice\"].to(device)\n",
    "            mask = t_batch[\"mask\"].to(device)\n",
    "            segment = t_batch[\"segment\"].to(device)\n",
    "            t_outputs = model(indice, mask, segment)\n",
    "            t_targets = t_batch['label'].to(device)\n",
    "            n_correct += (torch.argmax(t_outputs, -1) == t_targets).sum().item()\n",
    "            n_total += len(t_outputs)\n",
    "            if t_targets_all is None:\n",
    "                t_targets_all = t_targets\n",
    "                t_outputs_all = t_outputs\n",
    "            else:\n",
    "                t_targets_all = torch.cat((t_targets_all, t_targets), dim=0)\n",
    "                t_outputs_all = torch.cat((t_outputs_all, t_outputs), dim=0)\n",
    "    acc = n_correct / n_total\n",
    "    return acc"
   ]
  },
  {
   "cell_type": "code",
   "execution_count": 7,
   "metadata": {
    "tags": []
   },
   "outputs": [
    {
     "name": "stdout",
     "output_type": "stream",
     "text": [
      "True\n",
      ">>>>>>>>>>>>>>>>>>>>>>>>>>>>>>>>>>>>>>>>>>>>>>>>>>>>>>>>>>>>>>>>>>>>>>>>>>>>>>>>>>>>>>>>>>>>>>>>>>>>\n",
      "> val_acc: 0.5610\n",
      ">> saved: state_dict/BERT-CLF_zhijian_val_acc_0.561\n",
      ">>>>>>>>>>>>>>>>>>>>>>>>>>>>>>>>>>>>>>>>>>>>>>>>>>>>>>>>>>>>>>>>>>>>>>>>>>>>>>>>>>>>>>>>>>>>>>>>>>>>\n",
      "> val_acc: 0.5825\n",
      ">> saved: state_dict/BERT-CLF_zhijian_val_acc_0.5825\n",
      ">>>>>>>>>>>>>>>>>>>>>>>>>>>>>>>>>>>>>>>>>>>>>>>>>>>>>>>>>>>>>>>>>>>>>>>>>>>>>>>>>>>>>>>>>>>>>>>>>>>>\n",
      "> val_acc: 0.5610\n",
      ">>>>>>>>>>>>>>>>>>>>>>>>>>>>>>>>>>>>>>>>>>>>>>>>>>>>>>>>>>>>>>>>>>>>>>>>>>>>>>>>>>>>>>>>>>>>>>>>>>>>\n",
      "> val_acc: 0.6933\n",
      ">> saved: state_dict/BERT-CLF_zhijian_val_acc_0.6933\n",
      ">>>>>>>>>>>>>>>>>>>>>>>>>>>>>>>>>>>>>>>>>>>>>>>>>>>>>>>>>>>>>>>>>>>>>>>>>>>>>>>>>>>>>>>>>>>>>>>>>>>>\n",
      "> val_acc: 0.7060\n",
      ">> saved: state_dict/BERT-CLF_zhijian_val_acc_0.706\n",
      ">>>>>>>>>>>>>>>>>>>>>>>>>>>>>>>>>>>>>>>>>>>>>>>>>>>>>>>>>>>>>>>>>>>>>>>>>>>>>>>>>>>>>>>>>>>>>>>>>>>>\n",
      "> val_acc: 0.6537\n",
      ">>>>>>>>>>>>>>>>>>>>>>>>>>>>>>>>>>>>>>>>>>>>>>>>>>>>>>>>>>>>>>>>>>>>>>>>>>>>>>>>>>>>>>>>>>>>>>>>>>>>\n",
      "> val_acc: 0.7751\n",
      ">> saved: state_dict/BERT-CLF_zhijian_val_acc_0.7751\n",
      ">>>>>>>>>>>>>>>>>>>>>>>>>>>>>>>>>>>>>>>>>>>>>>>>>>>>>>>>>>>>>>>>>>>>>>>>>>>>>>>>>>>>>>>>>>>>>>>>>>>>\n",
      "> val_acc: 0.7718\n",
      ">>>>>>>>>>>>>>>>>>>>>>>>>>>>>>>>>>>>>>>>>>>>>>>>>>>>>>>>>>>>>>>>>>>>>>>>>>>>>>>>>>>>>>>>>>>>>>>>>>>>\n",
      "> val_acc: 0.7827\n",
      ">> saved: state_dict/BERT-CLF_zhijian_val_acc_0.7827\n",
      ">>>>>>>>>>>>>>>>>>>>>>>>>>>>>>>>>>>>>>>>>>>>>>>>>>>>>>>>>>>>>>>>>>>>>>>>>>>>>>>>>>>>>>>>>>>>>>>>>>>>\n",
      "> val_acc: 0.8063\n",
      ">> saved: state_dict/BERT-CLF_zhijian_val_acc_0.8063\n",
      ">>>>>>>>>>>>>>>>>>>>>>>>>>>>>>>>>>>>>>>>>>>>>>>>>>>>>>>>>>>>>>>>>>>>>>>>>>>>>>>>>>>>>>>>>>>>>>>>>>>>\n",
      "> val_acc: 0.8183\n",
      ">> saved: state_dict/BERT-CLF_zhijian_val_acc_0.8183\n",
      ">>>>>>>>>>>>>>>>>>>>>>>>>>>>>>>>>>>>>>>>>>>>>>>>>>>>>>>>>>>>>>>>>>>>>>>>>>>>>>>>>>>>>>>>>>>>>>>>>>>>\n",
      "> val_acc: 0.7642\n",
      ">>>>>>>>>>>>>>>>>>>>>>>>>>>>>>>>>>>>>>>>>>>>>>>>>>>>>>>>>>>>>>>>>>>>>>>>>>>>>>>>>>>>>>>>>>>>>>>>>>>>\n",
      "> val_acc: 0.8201\n",
      ">> saved: state_dict/BERT-CLF_zhijian_val_acc_0.8201\n",
      ">>>>>>>>>>>>>>>>>>>>>>>>>>>>>>>>>>>>>>>>>>>>>>>>>>>>>>>>>>>>>>>>>>>>>>>>>>>>>>>>>>>>>>>>>>>>>>>>>>>>\n",
      "> val_acc: 0.8023\n",
      ">>>>>>>>>>>>>>>>>>>>>>>>>>>>>>>>>>>>>>>>>>>>>>>>>>>>>>>>>>>>>>>>>>>>>>>>>>>>>>>>>>>>>>>>>>>>>>>>>>>>\n",
      "> val_acc: 0.8314\n",
      ">> saved: state_dict/BERT-CLF_zhijian_val_acc_0.8314\n",
      ">>>>>>>>>>>>>>>>>>>>>>>>>>>>>>>>>>>>>>>>>>>>>>>>>>>>>>>>>>>>>>>>>>>>>>>>>>>>>>>>>>>>>>>>>>>>>>>>>>>>\n",
      "> val_acc: 0.8303\n",
      ">>>>>>>>>>>>>>>>>>>>>>>>>>>>>>>>>>>>>>>>>>>>>>>>>>>>>>>>>>>>>>>>>>>>>>>>>>>>>>>>>>>>>>>>>>>>>>>>>>>>\n",
      "> val_acc: 0.8147\n",
      ">>>>>>>>>>>>>>>>>>>>>>>>>>>>>>>>>>>>>>>>>>>>>>>>>>>>>>>>>>>>>>>>>>>>>>>>>>>>>>>>>>>>>>>>>>>>>>>>>>>>\n",
      "> val_acc: 0.8190\n",
      ">> early stop.\n"
     ]
    }
   ],
   "source": [
    "\n",
    "print(torch.cuda.is_available())\n",
    "os.environ['CUDA_VISIBLE_DEVICES'] = \"0,1,2,3\"\n",
    "\n",
    "best_model_path = _train(criterion, optimizer, train_data_loader, val_data_loader)\n",
    "\n",
    "# best_model_path = self._train(criterion, optimizer, train_data_loader, val_data_loader)\n",
    "# self.model.load_state_dict(torch.load(best_model_path))\n",
    "# test_acc = self._evaluate_clf_acc(test_data_loader)\n",
    "# logger.info('>> test_acc: {:.4f}'.format(test_acc))"
   ]
  },
  {
   "cell_type": "code",
   "execution_count": 8,
   "metadata": {},
   "outputs": [
    {
     "name": "stdout",
     "output_type": "stream",
     "text": [
      "True\n",
      ">>>>>>>>>>>>>>>>>>>>>>>>>>>>>>>>>>>>>>>>>>>>>>>>>>>>>>>>>>>>>>>>>>>>>>>>>>>>>>>>>>>>>>>>>>>>>>>>>>>>\n",
      "> val_acc: 0.8339\n",
      ">> saved: state_dict/BERT-CLF_zhijian_val_acc_0.8339\n",
      ">>>>>>>>>>>>>>>>>>>>>>>>>>>>>>>>>>>>>>>>>>>>>>>>>>>>>>>>>>>>>>>>>>>>>>>>>>>>>>>>>>>>>>>>>>>>>>>>>>>>\n",
      "> val_acc: 0.8354\n",
      ">> saved: state_dict/BERT-CLF_zhijian_val_acc_0.8354\n",
      ">>>>>>>>>>>>>>>>>>>>>>>>>>>>>>>>>>>>>>>>>>>>>>>>>>>>>>>>>>>>>>>>>>>>>>>>>>>>>>>>>>>>>>>>>>>>>>>>>>>>\n",
      "> val_acc: 0.8416\n",
      ">> saved: state_dict/BERT-CLF_zhijian_val_acc_0.8416\n",
      ">>>>>>>>>>>>>>>>>>>>>>>>>>>>>>>>>>>>>>>>>>>>>>>>>>>>>>>>>>>>>>>>>>>>>>>>>>>>>>>>>>>>>>>>>>>>>>>>>>>>\n",
      "> val_acc: 0.8419\n",
      ">> saved: state_dict/BERT-CLF_zhijian_val_acc_0.8419\n",
      ">>>>>>>>>>>>>>>>>>>>>>>>>>>>>>>>>>>>>>>>>>>>>>>>>>>>>>>>>>>>>>>>>>>>>>>>>>>>>>>>>>>>>>>>>>>>>>>>>>>>\n",
      "> val_acc: 0.8427\n",
      ">> saved: state_dict/BERT-CLF_zhijian_val_acc_0.8427\n",
      ">>>>>>>>>>>>>>>>>>>>>>>>>>>>>>>>>>>>>>>>>>>>>>>>>>>>>>>>>>>>>>>>>>>>>>>>>>>>>>>>>>>>>>>>>>>>>>>>>>>>\n",
      "> val_acc: 0.8383\n",
      ">>>>>>>>>>>>>>>>>>>>>>>>>>>>>>>>>>>>>>>>>>>>>>>>>>>>>>>>>>>>>>>>>>>>>>>>>>>>>>>>>>>>>>>>>>>>>>>>>>>>\n",
      "> val_acc: 0.8463\n",
      ">> saved: state_dict/BERT-CLF_zhijian_val_acc_0.8463\n",
      ">>>>>>>>>>>>>>>>>>>>>>>>>>>>>>>>>>>>>>>>>>>>>>>>>>>>>>>>>>>>>>>>>>>>>>>>>>>>>>>>>>>>>>>>>>>>>>>>>>>>\n",
      "> val_acc: 0.8456\n",
      ">>>>>>>>>>>>>>>>>>>>>>>>>>>>>>>>>>>>>>>>>>>>>>>>>>>>>>>>>>>>>>>>>>>>>>>>>>>>>>>>>>>>>>>>>>>>>>>>>>>>\n",
      "> val_acc: 0.8517\n",
      ">> saved: state_dict/BERT-CLF_zhijian_val_acc_0.8517\n",
      ">>>>>>>>>>>>>>>>>>>>>>>>>>>>>>>>>>>>>>>>>>>>>>>>>>>>>>>>>>>>>>>>>>>>>>>>>>>>>>>>>>>>>>>>>>>>>>>>>>>>\n",
      "> val_acc: 0.8430\n",
      ">>>>>>>>>>>>>>>>>>>>>>>>>>>>>>>>>>>>>>>>>>>>>>>>>>>>>>>>>>>>>>>>>>>>>>>>>>>>>>>>>>>>>>>>>>>>>>>>>>>>\n",
      "> val_acc: 0.8492\n",
      ">>>>>>>>>>>>>>>>>>>>>>>>>>>>>>>>>>>>>>>>>>>>>>>>>>>>>>>>>>>>>>>>>>>>>>>>>>>>>>>>>>>>>>>>>>>>>>>>>>>>\n",
      "> val_acc: 0.8481\n",
      ">> early stop.\n"
     ]
    }
   ],
   "source": [
    "\n",
    "print(torch.cuda.is_available())\n",
    "os.environ['CUDA_VISIBLE_DEVICES'] = \"0,1,2,3\"\n",
    "\n",
    "best_model_path = _train(criterion, optimizer, train_data_loader, val_data_loader)\n",
    "\n",
    "# best_model_path = self._train(criterion, optimizer, train_data_loader, val_data_loader)\n",
    "# self.model.load_state_dict(torch.load(best_model_path))\n",
    "# test_acc = self._evaluate_clf_acc(test_data_loader)\n",
    "# logger.info('>> test_acc: {:.4f}'.format(test_acc))"
   ]
  },
  {
   "cell_type": "markdown",
   "metadata": {},
   "source": []
  },
  {
   "cell_type": "code",
   "execution_count": 9,
   "metadata": {},
   "outputs": [
    {
     "name": "stdout",
     "output_type": "stream",
     "text": [
      "True\n",
      ">>>>>>>>>>>>>>>>>>>>>>>>>>>>>>>>>>>>>>>>>>>>>>>>>>>>>>>>>>>>>>>>>>>>>>>>>>>>>>>>>>>>>>>>>>>>>>>>>>>>\n",
      "> val_acc: 0.8525\n",
      ">> saved: state_dict/BERT-CLF_zhijian_val_acc_0.8525\n",
      ">>>>>>>>>>>>>>>>>>>>>>>>>>>>>>>>>>>>>>>>>>>>>>>>>>>>>>>>>>>>>>>>>>>>>>>>>>>>>>>>>>>>>>>>>>>>>>>>>>>>\n",
      "> val_acc: 0.8576\n",
      ">> saved: state_dict/BERT-CLF_zhijian_val_acc_0.8576\n",
      ">>>>>>>>>>>>>>>>>>>>>>>>>>>>>>>>>>>>>>>>>>>>>>>>>>>>>>>>>>>>>>>>>>>>>>>>>>>>>>>>>>>>>>>>>>>>>>>>>>>>\n",
      "> val_acc: 0.8278\n",
      ">>>>>>>>>>>>>>>>>>>>>>>>>>>>>>>>>>>>>>>>>>>>>>>>>>>>>>>>>>>>>>>>>>>>>>>>>>>>>>>>>>>>>>>>>>>>>>>>>>>>\n",
      "> val_acc: 0.8561\n",
      ">>>>>>>>>>>>>>>>>>>>>>>>>>>>>>>>>>>>>>>>>>>>>>>>>>>>>>>>>>>>>>>>>>>>>>>>>>>>>>>>>>>>>>>>>>>>>>>>>>>>\n",
      "> val_acc: 0.8459\n",
      ">> early stop.\n"
     ]
    }
   ],
   "source": [
    "\n",
    "print(torch.cuda.is_available())\n",
    "os.environ['CUDA_VISIBLE_DEVICES'] = \"0,1,2,3\"\n",
    "\n",
    "best_model_path = _train(criterion, optimizer, train_data_loader, val_data_loader)\n",
    "\n",
    "# best_model_path = self._train(criterion, optimizer, train_data_loader, val_data_loader)\n",
    "# self.model.load_state_dict(torch.load(best_model_path))\n",
    "# test_acc = self._evaluate_clf_acc(test_data_loader)\n",
    "# logger.info('>> test_acc: {:.4f}'.format(test_acc))"
   ]
  },
  {
   "cell_type": "code",
   "execution_count": 10,
   "metadata": {},
   "outputs": [
    {
     "name": "stdout",
     "output_type": "stream",
     "text": [
      "True\n",
      ">>>>>>>>>>>>>>>>>>>>>>>>>>>>>>>>>>>>>>>>>>>>>>>>>>>>>>>>>>>>>>>>>>>>>>>>>>>>>>>>>>>>>>>>>>>>>>>>>>>>\n",
      "> val_acc: 0.8608\n",
      ">> saved: state_dict/BERT-CLF_zhijian_val_acc_0.8608\n",
      ">>>>>>>>>>>>>>>>>>>>>>>>>>>>>>>>>>>>>>>>>>>>>>>>>>>>>>>>>>>>>>>>>>>>>>>>>>>>>>>>>>>>>>>>>>>>>>>>>>>>\n",
      "> val_acc: 0.8456\n",
      ">>>>>>>>>>>>>>>>>>>>>>>>>>>>>>>>>>>>>>>>>>>>>>>>>>>>>>>>>>>>>>>>>>>>>>>>>>>>>>>>>>>>>>>>>>>>>>>>>>>>\n",
      "> val_acc: 0.8557\n",
      ">>>>>>>>>>>>>>>>>>>>>>>>>>>>>>>>>>>>>>>>>>>>>>>>>>>>>>>>>>>>>>>>>>>>>>>>>>>>>>>>>>>>>>>>>>>>>>>>>>>>\n",
      "> val_acc: 0.8583\n",
      ">> early stop.\n"
     ]
    }
   ],
   "source": [
    "\n",
    "print(torch.cuda.is_available())\n",
    "os.environ['CUDA_VISIBLE_DEVICES'] = \"0,1,2,3\"\n",
    "\n",
    "best_model_path = _train(criterion, optimizer, train_data_loader, val_data_loader)\n",
    "\n",
    "# best_model_path = self._train(criterion, optimizer, train_data_loader, val_data_loader)\n",
    "# self.model.load_state_dict(torch.load(best_model_path))\n",
    "# test_acc = self._evaluate_clf_acc(test_data_loader)\n",
    "# logger.info('>> test_acc: {:.4f}'.format(test_acc))"
   ]
  },
  {
   "cell_type": "code",
   "execution_count": 11,
   "metadata": {},
   "outputs": [
    {
     "name": "stdout",
     "output_type": "stream",
     "text": [
      "True\n",
      ">>>>>>>>>>>>>>>>>>>>>>>>>>>>>>>>>>>>>>>>>>>>>>>>>>>>>>>>>>>>>>>>>>>>>>>>>>>>>>>>>>>>>>>>>>>>>>>>>>>>\n",
      "> val_acc: 0.8576\n",
      ">> saved: state_dict/BERT-CLF_zhijian_val_acc_0.8576\n",
      ">>>>>>>>>>>>>>>>>>>>>>>>>>>>>>>>>>>>>>>>>>>>>>>>>>>>>>>>>>>>>>>>>>>>>>>>>>>>>>>>>>>>>>>>>>>>>>>>>>>>\n",
      "> val_acc: 0.8630\n",
      ">> saved: state_dict/BERT-CLF_zhijian_val_acc_0.863\n",
      ">>>>>>>>>>>>>>>>>>>>>>>>>>>>>>>>>>>>>>>>>>>>>>>>>>>>>>>>>>>>>>>>>>>>>>>>>>>>>>>>>>>>>>>>>>>>>>>>>>>>\n",
      "> val_acc: 0.8634\n",
      ">> saved: state_dict/BERT-CLF_zhijian_val_acc_0.8634\n",
      ">>>>>>>>>>>>>>>>>>>>>>>>>>>>>>>>>>>>>>>>>>>>>>>>>>>>>>>>>>>>>>>>>>>>>>>>>>>>>>>>>>>>>>>>>>>>>>>>>>>>\n",
      "> val_acc: 0.8597\n",
      ">>>>>>>>>>>>>>>>>>>>>>>>>>>>>>>>>>>>>>>>>>>>>>>>>>>>>>>>>>>>>>>>>>>>>>>>>>>>>>>>>>>>>>>>>>>>>>>>>>>>\n",
      "> val_acc: 0.8612\n",
      ">>>>>>>>>>>>>>>>>>>>>>>>>>>>>>>>>>>>>>>>>>>>>>>>>>>>>>>>>>>>>>>>>>>>>>>>>>>>>>>>>>>>>>>>>>>>>>>>>>>>\n",
      "> val_acc: 0.8637\n",
      ">> saved: state_dict/BERT-CLF_zhijian_val_acc_0.8637\n",
      ">>>>>>>>>>>>>>>>>>>>>>>>>>>>>>>>>>>>>>>>>>>>>>>>>>>>>>>>>>>>>>>>>>>>>>>>>>>>>>>>>>>>>>>>>>>>>>>>>>>>\n",
      "> val_acc: 0.8648\n",
      ">> saved: state_dict/BERT-CLF_zhijian_val_acc_0.8648\n",
      ">>>>>>>>>>>>>>>>>>>>>>>>>>>>>>>>>>>>>>>>>>>>>>>>>>>>>>>>>>>>>>>>>>>>>>>>>>>>>>>>>>>>>>>>>>>>>>>>>>>>\n",
      "> val_acc: 0.8634\n",
      ">>>>>>>>>>>>>>>>>>>>>>>>>>>>>>>>>>>>>>>>>>>>>>>>>>>>>>>>>>>>>>>>>>>>>>>>>>>>>>>>>>>>>>>>>>>>>>>>>>>>\n",
      "> val_acc: 0.8663\n",
      ">> saved: state_dict/BERT-CLF_zhijian_val_acc_0.8663\n",
      ">>>>>>>>>>>>>>>>>>>>>>>>>>>>>>>>>>>>>>>>>>>>>>>>>>>>>>>>>>>>>>>>>>>>>>>>>>>>>>>>>>>>>>>>>>>>>>>>>>>>\n",
      "> val_acc: 0.8659\n",
      ">>>>>>>>>>>>>>>>>>>>>>>>>>>>>>>>>>>>>>>>>>>>>>>>>>>>>>>>>>>>>>>>>>>>>>>>>>>>>>>>>>>>>>>>>>>>>>>>>>>>\n",
      "> val_acc: 0.8666\n",
      ">> saved: state_dict/BERT-CLF_zhijian_val_acc_0.8666\n",
      ">>>>>>>>>>>>>>>>>>>>>>>>>>>>>>>>>>>>>>>>>>>>>>>>>>>>>>>>>>>>>>>>>>>>>>>>>>>>>>>>>>>>>>>>>>>>>>>>>>>>\n",
      "> val_acc: 0.8681\n",
      ">> saved: state_dict/BERT-CLF_zhijian_val_acc_0.8681\n",
      ">>>>>>>>>>>>>>>>>>>>>>>>>>>>>>>>>>>>>>>>>>>>>>>>>>>>>>>>>>>>>>>>>>>>>>>>>>>>>>>>>>>>>>>>>>>>>>>>>>>>\n",
      "> val_acc: 0.8706\n",
      ">> saved: state_dict/BERT-CLF_zhijian_val_acc_0.8706\n",
      ">>>>>>>>>>>>>>>>>>>>>>>>>>>>>>>>>>>>>>>>>>>>>>>>>>>>>>>>>>>>>>>>>>>>>>>>>>>>>>>>>>>>>>>>>>>>>>>>>>>>\n",
      "> val_acc: 0.8710\n",
      ">> saved: state_dict/BERT-CLF_zhijian_val_acc_0.871\n",
      ">>>>>>>>>>>>>>>>>>>>>>>>>>>>>>>>>>>>>>>>>>>>>>>>>>>>>>>>>>>>>>>>>>>>>>>>>>>>>>>>>>>>>>>>>>>>>>>>>>>>\n",
      "> val_acc: 0.8706\n",
      ">>>>>>>>>>>>>>>>>>>>>>>>>>>>>>>>>>>>>>>>>>>>>>>>>>>>>>>>>>>>>>>>>>>>>>>>>>>>>>>>>>>>>>>>>>>>>>>>>>>>\n",
      "> val_acc: 0.8699\n",
      ">>>>>>>>>>>>>>>>>>>>>>>>>>>>>>>>>>>>>>>>>>>>>>>>>>>>>>>>>>>>>>>>>>>>>>>>>>>>>>>>>>>>>>>>>>>>>>>>>>>>\n",
      "> val_acc: 0.8714\n",
      ">> saved: state_dict/BERT-CLF_zhijian_val_acc_0.8714\n",
      ">>>>>>>>>>>>>>>>>>>>>>>>>>>>>>>>>>>>>>>>>>>>>>>>>>>>>>>>>>>>>>>>>>>>>>>>>>>>>>>>>>>>>>>>>>>>>>>>>>>>\n",
      "> val_acc: 0.8714\n",
      ">>>>>>>>>>>>>>>>>>>>>>>>>>>>>>>>>>>>>>>>>>>>>>>>>>>>>>>>>>>>>>>>>>>>>>>>>>>>>>>>>>>>>>>>>>>>>>>>>>>>\n",
      "> val_acc: 0.8728\n",
      ">> saved: state_dict/BERT-CLF_zhijian_val_acc_0.8728\n",
      ">>>>>>>>>>>>>>>>>>>>>>>>>>>>>>>>>>>>>>>>>>>>>>>>>>>>>>>>>>>>>>>>>>>>>>>>>>>>>>>>>>>>>>>>>>>>>>>>>>>>\n",
      "> val_acc: 0.8728\n",
      ">>>>>>>>>>>>>>>>>>>>>>>>>>>>>>>>>>>>>>>>>>>>>>>>>>>>>>>>>>>>>>>>>>>>>>>>>>>>>>>>>>>>>>>>>>>>>>>>>>>>\n",
      "> val_acc: 0.8728\n",
      ">>>>>>>>>>>>>>>>>>>>>>>>>>>>>>>>>>>>>>>>>>>>>>>>>>>>>>>>>>>>>>>>>>>>>>>>>>>>>>>>>>>>>>>>>>>>>>>>>>>>\n",
      "> val_acc: 0.8739\n",
      ">> saved: state_dict/BERT-CLF_zhijian_val_acc_0.8739\n",
      ">>>>>>>>>>>>>>>>>>>>>>>>>>>>>>>>>>>>>>>>>>>>>>>>>>>>>>>>>>>>>>>>>>>>>>>>>>>>>>>>>>>>>>>>>>>>>>>>>>>>\n",
      "> val_acc: 0.8735\n",
      ">>>>>>>>>>>>>>>>>>>>>>>>>>>>>>>>>>>>>>>>>>>>>>>>>>>>>>>>>>>>>>>>>>>>>>>>>>>>>>>>>>>>>>>>>>>>>>>>>>>>\n",
      "> val_acc: 0.8743\n",
      ">> saved: state_dict/BERT-CLF_zhijian_val_acc_0.8743\n",
      ">>>>>>>>>>>>>>>>>>>>>>>>>>>>>>>>>>>>>>>>>>>>>>>>>>>>>>>>>>>>>>>>>>>>>>>>>>>>>>>>>>>>>>>>>>>>>>>>>>>>\n",
      "> val_acc: 0.8743\n",
      ">>>>>>>>>>>>>>>>>>>>>>>>>>>>>>>>>>>>>>>>>>>>>>>>>>>>>>>>>>>>>>>>>>>>>>>>>>>>>>>>>>>>>>>>>>>>>>>>>>>>\n",
      "> val_acc: 0.8757\n",
      ">> saved: state_dict/BERT-CLF_zhijian_val_acc_0.8757\n",
      ">>>>>>>>>>>>>>>>>>>>>>>>>>>>>>>>>>>>>>>>>>>>>>>>>>>>>>>>>>>>>>>>>>>>>>>>>>>>>>>>>>>>>>>>>>>>>>>>>>>>\n",
      "> val_acc: 0.8757\n",
      ">>>>>>>>>>>>>>>>>>>>>>>>>>>>>>>>>>>>>>>>>>>>>>>>>>>>>>>>>>>>>>>>>>>>>>>>>>>>>>>>>>>>>>>>>>>>>>>>>>>>\n",
      "> val_acc: 0.8765\n",
      ">> saved: state_dict/BERT-CLF_zhijian_val_acc_0.8765\n",
      ">>>>>>>>>>>>>>>>>>>>>>>>>>>>>>>>>>>>>>>>>>>>>>>>>>>>>>>>>>>>>>>>>>>>>>>>>>>>>>>>>>>>>>>>>>>>>>>>>>>>\n",
      "> val_acc: 0.8761\n",
      ">>>>>>>>>>>>>>>>>>>>>>>>>>>>>>>>>>>>>>>>>>>>>>>>>>>>>>>>>>>>>>>>>>>>>>>>>>>>>>>>>>>>>>>>>>>>>>>>>>>>\n",
      "> val_acc: 0.8685\n",
      ">>>>>>>>>>>>>>>>>>>>>>>>>>>>>>>>>>>>>>>>>>>>>>>>>>>>>>>>>>>>>>>>>>>>>>>>>>>>>>>>>>>>>>>>>>>>>>>>>>>>\n",
      "> val_acc: 0.8765\n",
      ">> early stop.\n"
     ]
    }
   ],
   "source": [
    "\n",
    "print(torch.cuda.is_available())\n",
    "os.environ['CUDA_VISIBLE_DEVICES'] = \"0,1,2,3\"\n",
    "\n",
    "best_model_path = _train(criterion, optimizer, train_data_loader, val_data_loader)\n",
    "\n",
    "# best_model_path = self._train(criterion, optimizer, train_data_loader, val_data_loader)\n",
    "# self.model.load_state_dict(torch.load(best_model_path))\n",
    "# test_acc = self._evaluate_clf_acc(test_data_loader)\n",
    "# logger.info('>> test_acc: {:.4f}'.format(test_acc))"
   ]
  },
  {
   "cell_type": "code",
   "execution_count": 12,
   "metadata": {},
   "outputs": [
    {
     "name": "stdout",
     "output_type": "stream",
     "text": [
      "True\n",
      ">>>>>>>>>>>>>>>>>>>>>>>>>>>>>>>>>>>>>>>>>>>>>>>>>>>>>>>>>>>>>>>>>>>>>>>>>>>>>>>>>>>>>>>>>>>>>>>>>>>>\n",
      "> val_acc: 0.8768\n",
      ">> saved: state_dict/BERT-CLF_zhijian_val_acc_0.8768\n",
      ">>>>>>>>>>>>>>>>>>>>>>>>>>>>>>>>>>>>>>>>>>>>>>>>>>>>>>>>>>>>>>>>>>>>>>>>>>>>>>>>>>>>>>>>>>>>>>>>>>>>\n",
      "> val_acc: 0.8765\n",
      ">>>>>>>>>>>>>>>>>>>>>>>>>>>>>>>>>>>>>>>>>>>>>>>>>>>>>>>>>>>>>>>>>>>>>>>>>>>>>>>>>>>>>>>>>>>>>>>>>>>>\n",
      "> val_acc: 0.8768\n",
      ">>>>>>>>>>>>>>>>>>>>>>>>>>>>>>>>>>>>>>>>>>>>>>>>>>>>>>>>>>>>>>>>>>>>>>>>>>>>>>>>>>>>>>>>>>>>>>>>>>>>\n",
      "> val_acc: 0.8772\n",
      ">> saved: state_dict/BERT-CLF_zhijian_val_acc_0.8772\n",
      ">>>>>>>>>>>>>>>>>>>>>>>>>>>>>>>>>>>>>>>>>>>>>>>>>>>>>>>>>>>>>>>>>>>>>>>>>>>>>>>>>>>>>>>>>>>>>>>>>>>>\n",
      "> val_acc: 0.8765\n",
      ">>>>>>>>>>>>>>>>>>>>>>>>>>>>>>>>>>>>>>>>>>>>>>>>>>>>>>>>>>>>>>>>>>>>>>>>>>>>>>>>>>>>>>>>>>>>>>>>>>>>\n",
      "> val_acc: 0.8743\n",
      ">>>>>>>>>>>>>>>>>>>>>>>>>>>>>>>>>>>>>>>>>>>>>>>>>>>>>>>>>>>>>>>>>>>>>>>>>>>>>>>>>>>>>>>>>>>>>>>>>>>>\n",
      "> val_acc: 0.8768\n",
      ">> early stop.\n"
     ]
    }
   ],
   "source": [
    "\n",
    "print(torch.cuda.is_available())\n",
    "os.environ['CUDA_VISIBLE_DEVICES'] = \"0,1,2,3\"\n",
    "\n",
    "best_model_path = _train(criterion, optimizer, train_data_loader, val_data_loader)\n",
    "\n",
    "# best_model_path = self._train(criterion, optimizer, train_data_loader, val_data_loader)\n",
    "# self.model.load_state_dict(torch.load(best_model_path))\n",
    "# test_acc = self._evaluate_clf_acc(test_data_loader)\n",
    "# logger.info('>> test_acc: {:.4f}'.format(test_acc))"
   ]
  }
 ],
 "metadata": {
  "kernelspec": {
   "display_name": "Python 3.6.13 ('bot-mvp')",
   "language": "python",
   "name": "python3"
  },
  "language_info": {
   "codemirror_mode": {
    "name": "ipython",
    "version": 3
   },
   "file_extension": ".py",
   "mimetype": "text/x-python",
   "name": "python",
   "nbconvert_exporter": "python",
   "pygments_lexer": "ipython3",
   "version": "3.6.13"
  },
  "orig_nbformat": 4,
  "vscode": {
   "interpreter": {
    "hash": "4632cd8377e743b0d90da04eeb35bbed8ec5d08da721a48d0317015ab0d939e0"
   }
  }
 },
 "nbformat": 4,
 "nbformat_minor": 2
}
