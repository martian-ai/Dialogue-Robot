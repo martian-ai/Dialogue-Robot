{
 "cells": [
  {
   "cell_type": "code",
   "execution_count": 1,
   "metadata": {
    "collapsed": true
   },
   "outputs": [],
   "source": [
    "import logging\n",
    "import sys\n",
    "import numpy as np\n",
    "sys.path.append('..')\n",
    "from model import GibbsLDA\n",
    "from model import vbLDA\n",
    "from model.utils import convert_cnt_to_list, get_top_words, get_corpus_ids_cnt"
   ]
  },
  {
   "cell_type": "markdown",
   "metadata": {},
   "source": [
    "## Loading Corpus"
   ]
  },
  {
   "cell_type": "code",
   "execution_count": 2,
   "metadata": {},
   "outputs": [],
   "source": [
    "# 文件路径\n",
    "corpus_path = '/Users/sunhongchao/Documents/Dialogue-Robot/resources/corpus/document/三体.txt'\n",
    "vocab_path = '/Users/sunhongchao/Documents/Dialogue-Robot/resources/dict/现代汉语常用词表.txt' \n",
    "stopwords_path = '/Users/sunhongchao/Documents/Dialogue-Robot/resources/dict/HIT_stopwords.txt'"
   ]
  },
  {
   "cell_type": "code",
   "execution_count": 3,
   "metadata": {},
   "outputs": [],
   "source": [
    "# 参数设计\n",
    "num_doc = 1000 # 文档个数 \n",
    "max_voca = 5000 # 词典个数\n",
    "max_iter = 100 # 迭代轮数(TODO 参数优化)\n",
    "n_topic = 100 # 主题个数(TODO 参数优化，借鉴CRP DPMM 等)"
   ]
  },
  {
   "cell_type": "code",
   "execution_count": 4,
   "metadata": {
    "collapsed": false,
    "tags": []
   },
   "outputs": [
    {
     "name": "stderr",
     "output_type": "stream",
     "text": [
      "Building prefix dict from the default dictionary ...\n",
      "Loading model from cache /var/folders/gm/n8j04lbn6gb2cy9m7mvb8z680000gp/T/jieba.cache\n",
      "Loading model cost 0.566 seconds.\n",
      "Prefix dict has been built successfully.\n",
      "词典大小 :3432\n",
      "['背景' '东西' '科学' '父亲' '感觉' '时间' '发现' '天线' '研究' '仿佛' '胶卷' '妻子' '告诉' '显示'\n",
      " '城市' '理论' '红卫兵' '声音' '辐射' '中心' '边界' '相机' '数字' '基地' '回答' '观测' '孩子' '游戏'\n",
      " '幽灵' '消失' '发出' '眼睛' '反动' '人类' '闪烁' '小时' '教授' '感到' '兵团' '照片' '沉默' '学者'\n",
      " '实验' '地方' '主任' '工作' '地上' '一会儿' '也许' '没什么']\n",
      "[array([], dtype=float64), array([1459,  171,  274, 1457,  337,  275,  336,    4,  452,  910,  651,\n",
      "       1458, 1460,  909]), array([216,  89,  28,  90, 651])]\n",
      "[array([], dtype=float64), array([1, 1, 1, 1, 1, 1, 1, 1, 1, 1, 1, 1, 1, 1]), array([1, 1, 1, 1, 1])]\n"
     ]
    }
   ],
   "source": [
    "# 通过原始语料构造训练数据\n",
    "lines, (voca, doc_ids, doc_cnt) = get_corpus_ids_cnt(corpus_path=corpus_path, vocab_path=vocab_path, stopwords_path=stopwords_path, num_doc=num_doc, max_voca=max_voca)\n",
    "print('词典大小 :%d' % len(voca))\n",
    "print(voca[:50])\n",
    "print(doc_ids[:3])\n",
    "print(doc_cnt[:3])"
   ]
  },
  {
   "cell_type": "code",
   "execution_count": 5,
   "metadata": {
    "tags": []
   },
   "outputs": [
    {
     "name": "stdout",
     "output_type": "stream",
     "text": [
      "构造的训练数据 大小:1000\n",
      "构造的训练数据\n",
      "[[], [1459, 171, 274, 1457, 337, 275, 336, 4, 452, 910, 651, 1458, 1460, 909], [216, 89, 28, 90, 651]]\n"
     ]
    }
   ],
   "source": [
    "docs = convert_cnt_to_list(doc_ids, doc_cnt)\n",
    "print('构造的训练数据 大小:%d' % len(docs))\n",
    "print('构造的训练数据')\n",
    "print(docs[:3])"
   ]
  },
  {
   "cell_type": "code",
   "execution_count": 8,
   "metadata": {
    "collapsed": false,
    "tags": []
   },
   "outputs": [
    {
     "name": "stdout",
     "output_type": "stream",
     "text": [
      "Topic 0 :  尺度,材料,表面,努力,电码,旁边,忌讳,利用,破译,签名\n",
      "Topic 1 :  父亲,眼睛,东西,告诉,医生,尽头,躯体,一动不动,地上,记载\n",
      "Topic 2 :  短长,雷达,兵团,渐渐,挥动,警戒,脱水,基地,旗帜,样子\n",
      "Topic 3 :  有人,年代,古典,科技,领域,破坏,科学,理论,边界,学者\n",
      "Topic 4 :  革命,发现,反动,女性,身影,抽象,天线,本质,小将,人民\n",
      "Topic 5 :  声音,星星,终极,膨胀,哲学,证明,卧底,大小,星空,一阵\n",
      "Topic 6 :  灿烂,灯火,主体,纳米,中心,正好,脱水,身后,妻子,目光\n",
      "Topic 7 :  时间,小时,计时,拍摄,位置,希望,试验,空间,记录,欢呼\n",
      "Topic 8 :  精确,日期,窗口,间隔,发现,女儿,孩子,逃避,绝望,金字塔\n",
      "Topic 9 :  介绍,信息,将军,浸泡,交流,颠倒,国家,肯定,惊恐,傻笑\n",
      "Topic 10 :  大王,伪科学,躯体,身上,魔术师,遗体,思想,联合,红色,技术\n",
      "Topic 11 :  渴望,大楼,旗帜,中央,发射,司机,错综复杂,仿佛,联合,红色\n",
      "Topic 12 :  地方,辐射,凌晨,背景,浸透,研究生,母亲,介绍,大学,仿佛\n",
      "Topic 13 :  材料,组织,学术,父亲,国际,学者,妹妹,揭发,一眼,干活儿\n",
      "Topic 14 :  分子,年轻,痛苦,前天,晚上,得意,凝固,运行,对不起,中央\n",
      "Topic 15 :  红色,解释,联合,数据,红卫兵,疯狂,监测,系统,大楼,同行\n",
      "Topic 16 :  拍摄,相机,胶卷,幽灵,间隔,世纪,项目,妻子,底片,暗室\n",
      "Topic 17 :  机器,外面,天文,想法,平台,旁边,火光,灾难,钢铁,望远镜\n",
      "Topic 18 :  父亲,犯罪,会场,声音,生命,工地,遗体,台上,好多,红卫兵\n",
      "Topic 19 :  感觉,操作,苏醒,密集,异样,物理,仿佛,混乱,点儿,等于\n",
      "Topic 20 :  仿佛,目光,意识,抬头,金属,声音,发出,终于,沉重,天花板\n",
      "Topic 21 :  跟着,眼前,沉默,数码相机,大厦,脚下,恍惚,闪烁,回答,射手\n",
      "Topic 22 :  有意无意,一半,无知,晨光,知识,计时器,临时,微弱,纤细,年轻\n",
      "Topic 23 :  沉默,红卫兵,老师,观测,回来,女孩儿,背景,目的,武器,理想\n",
      "Topic 24 :  人类,妻子,工作,军代表,地方,一生,同志,学生,杀虫剂,答案\n",
      "Topic 25 :  卫星,微波,探测,背景,发射,反正,超脱,劳动,博士,学生\n",
      "Topic 26 :  试验,加速器,粒子,撞击,能量,条件,真相,只好,实验,黑色\n",
      "Topic 27 :  警告,荒原,白色,实验室,远方,天空,博士,研究,小时,起身\n",
      "Topic 28 :  人类,力量,关系,之外,冷酷,数量级,波长,冰山,失望,道德\n",
      "Topic 29 :  也许,雷达,反动,孩子,连队,表现,林海,度过,树桩,代表\n",
      "Topic 30 :  眼睛,唯一,简单,女性,检查,视力,射线,欧洲,显示,老师\n",
      "Topic 31 :  兵团,基地,建设,代表,发出,扯淡,物资,方向,天线,生产\n",
      "Topic 32 :  历史,下午,解释,余生,忏悔,舷窗,厨房,反动,精神,时代\n",
      "Topic 33 :  生存,死亡,寂静,位置,反动,春天,故事,公文包,苏联,背叛\n",
      "Topic 34 :  胶卷,明白,妻子,暗室,别墅,职位,红灯,恢复,意义,闪烁\n",
      "Topic 35 :  显示,游戏,感应,寒冷,一套,头盔,东西,记住,方式,角色\n",
      "Topic 36 :  社会,技术,敏感,事情,政治,传奇,报告,年代,基础,温和\n",
      "Topic 37 :  批判,对象,名字,红卫兵,年轻,仿佛,十字架,认罪,起身,场景\n",
      "Topic 38 :  相机,胶卷,背景,辐射,妻子,观测,数码相机,接收,诞生,基地\n",
      "Topic 39 :  本子,文明,派别,背景,目标,照片,爆发,残酷,严寒,冰凉\n",
      "Topic 40 :  时间,房间,设备,价值,内容,研究,回来,一眼,地方,奇怪\n",
      "Topic 41 :  工作,数据,辐射,奇怪,精确,卫星,政治,单摆,表现,背景\n",
      "Topic 42 :  告诉,作用,外界,观察,生产,简单,规律,火海,记者,一口\n",
      "Topic 43 :  科学,熄灭,理论,边界,解释,时间,父亲,发现,天边,贡献\n",
      "Topic 44 :  浸泡,构图,金属,预言,告诉,复活,士兵,建筑,远处,文档\n",
      "Topic 45 :  重复,感觉,显示器,思想,东西,研究,努力,形状,惊奇,天体\n",
      "Topic 46 :  确实,战争,处于,军队,身体,沉重,发出,精神,幸运,时刻\n",
      "Topic 47 :  父亲,故事,烟斗,永远,连队,精致,消失,样子,发生,暖和\n",
      "Topic 48 :  咔嚓,转身,一眼,经验,不安,游客,开会,战士,基地,回答\n",
      "Topic 49 :  游戏,试验,感觉,悟出,组合,设备,分子,隐藏,合成,数量\n",
      "Topic 50 :  教授,研究,超导,正好,电话,真实,会议,胶片,高能,项目\n",
      "Topic 51 :  好好,数字,眼前,制止,奶奶,命运,文件,确实,反动,走动\n",
      "Topic 52 :  好像,文明,严寒,艰难,酷热,技术,郑重,旅程,国防,时间\n",
      "Topic 53 :  画面,城市,摄影,身影,山谷,背景,杂志,抚摸,作品,消失\n",
      "Topic 54 :  大厅,中心,声音,打开,电脑,网页,浑厚,大殿,金字塔,网址\n",
      "Topic 55 :  讲述,天线,文明,胶片,脱水,试图,纳米,感觉,消失,项目\n",
      "Topic 56 :  翻动,大小,亮度,窗口,时间,预测,流逝,示意,阳光,停止\n",
      "Topic 57 :  数字,孩子,说话,感到,眼镜,公式,发现,黑色,底片,吃惊\n",
      "Topic 58 :  名字,血液,智慧,科学,闪烁,充满,定律,周期,心脏,子宫\n",
      "Topic 59 :  专业,科学,导师,物理,边界,回答,成员,主任,接触,学生\n",
      "Topic 60 :  运行,保证,发现,箱子,回去,头脑,口红,油画,运动,天线\n",
      "Topic 61 :  房间,技术,科学家,先知,射手,自杀,阻止,之外,陷入,之中\n",
      "Topic 62 :  声音,浸泡,赞美,地上,夜里,背后,享受,天上,城镇,新生\n",
      "Topic 63 :  也许,眼镜,现实,幽灵,尽头,球状,闪电,研究,辐射,气息\n",
      "Topic 64 :  闪烁,亮度,纷乱,桌子,目标,竖立,大地,人类,试图,东西\n",
      "Topic 65 :  工程,不规则,没什么,摇动,地上,东西,材料,寻找,发出,反射\n",
      "Topic 66 :  幽灵,阶段,牛鬼蛇神,时间,胶卷,显示,到来,疯狂,画面,消失\n",
      "Topic 67 :  加速器,研究,将军,理论,门口,机械,工地,信封,时代,高能\n",
      "Topic 68 :  告诉,思想,会议,参加,时间,科学,理论,发现,研究,仿佛\n",
      "Topic 69 :  变化,主任,仿佛,教堂,奇异,一阵,东西,试验,停机,状态\n",
      "Topic 70 :  为期,相机,到来,数码,意味着,发现,脱水,孩子,人类,定律\n",
      "Topic 71 :  眼睛,视野,消失,连队,路上,理论,相比,战士,基地,剩下\n",
      "Topic 72 :  一阵,气息,事件,职务,结束,跳动,超自然,导致,别墅,发出\n",
      "Topic 73 :  显示,岩石,上方,表达,加快,金字塔,调整,无意,阴影,标志\n",
      "Topic 74 :  父亲,科学,科学家,小工,回答,想象,交流,常识,发生,尺度\n",
      "Topic 75 :  教授,结构,东西,科学,边界,学者,有人,照片,勉强,途径\n",
      "Topic 76 :  胶卷,战争,理论,孩子,强迫,午饭,妻子,实话,话题,时期\n",
      "Topic 77 :  革命,女人,红卫兵,敌人,枯树,方式,背景,皮带,显示,熟悉\n",
      "Topic 78 :  轻声,底线,成功,实验,背景,外面,曙光,基地,显现,思维\n",
      "Topic 79 :  时间,稳定,沉默,大门,名单,远方,大会,擅自,严寒,目标\n",
      "Topic 80 :  项目,本来,星星,大王,规律,能源,天上,崩溃,运行,理论\n",
      "Topic 81 :  同步,地平线,寒冷,火海,留下,波动,曲线,星星,光芒,日出\n",
      "Topic 82 :  照片,图像,明白,渐渐,风景,身影,疯狂,半天,关系,说话\n",
      "Topic 83 :  没什么,小时,发出,原因,灯光,要紧,杂物,吃惊,举动,城市\n",
      "Topic 84 :  一眼,推翻,驱动,理论,数字,充满,随便,点儿,幽灵,儿子\n",
      "Topic 85 :  中心,东西,透明,背景,父亲,告诉,辐射,神秘,天文馆,家里\n",
      "Topic 86 :  天线,夜空,客厅,数值,挥手,直线,手掌,地方,位置,柔和\n",
      "Topic 87 :  燃烧,兵团,来到,城市,草原,森林,投入,建设,年轻人,寻常\n",
      "Topic 88 :  回答,城市,大地,方向,没什么,曙光,客厅,中华,地平线,包括\n",
      "Topic 89 :  东西,小时,准确,登录,注册,眼睛,想象,界面,妻子,努力\n",
      "Topic 90 :  背景,早晨,地板,亮光,夹层,修正,模型,精神,告诉,因素\n",
      "Topic 91 :  皮带,火鸡,打击,偶然,观察,定律,降临,上午,人生,食物\n",
      "Topic 92 :  天线,基地,观测,不由,愤怒,敏感,天文,国家,妻子,学者\n",
      "Topic 93 :  城市,拍摄,仿佛,慈祥,自行车,最终,流逝,凝固,一半,相机\n",
      "Topic 94 :  模糊,打印,生命,武斗,纤小,柔软,妹妹,曲线,妻子,闪烁\n",
      "Topic 95 :  结束,地面,告诉,幸运,简单,卫星,回答,大门,警方,故障\n",
      "Topic 96 :  数字,金字塔,实验,转向,关系,哲学,指引,无关,挣扎,入口\n",
      "Topic 97 :  背景,波动,变化,辐射,卫星,观测,意味着,精度,金字塔,整体\n",
      "Topic 98 :  规律,梦境,击打,旗帜,游戏,变故,生活,东西,玩意儿,子弹\n",
      "Topic 99 :  峰顶,公路,停机,基地,天线,地方,单元,装置,连续,表情\n"
     ]
    }
   ],
   "source": [
    "vbmodel = vbLDA(len(docs), len(voca), n_topic)\n",
    "vbmodel.fit(doc_ids, doc_cnt, max_iter=max_iter)\n",
    "for ti in range(n_topic):\n",
    "    top_words = get_top_words(vbmodel._lambda, voca, ti, n_words=10)\n",
    "    print('Topic', ti ,': ', ','.join(top_words))"
   ]
  }
 ],
 "metadata": {
  "kernelspec": {
   "display_name": "Python 3.9.7 ('base')",
   "language": "python",
   "name": "python3"
  },
  "language_info": {
   "codemirror_mode": {
    "name": "ipython",
    "version": 3
   },
   "file_extension": ".py",
   "mimetype": "text/x-python",
   "name": "python",
   "nbconvert_exporter": "python",
   "pygments_lexer": "ipython3",
   "version": "3.9.7"
  },
  "toc": {
   "toc_cell": true,
   "toc_number_sections": true,
   "toc_threshold": 4,
   "toc_window_display": true
  },
  "toc_position": {
   "left": "1120px",
   "right": "20px",
   "top": "120px",
   "width": "299px"
  },
  "vscode": {
   "interpreter": {
    "hash": "d20345af9713ebff8c68be7a4bc786792663d50f698c1c39eb248438a08adbaa"
   }
  }
 },
 "nbformat": 4,
 "nbformat_minor": 0
}
