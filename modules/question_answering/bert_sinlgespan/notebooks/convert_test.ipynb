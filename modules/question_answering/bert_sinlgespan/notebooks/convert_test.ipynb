{
 "cells": [
  {
   "cell_type": "code",
   "execution_count": 1,
   "metadata": {},
   "outputs": [],
   "source": [
    "import jieba"
   ]
  },
  {
   "cell_type": "code",
   "execution_count": 2,
   "metadata": {},
   "outputs": [],
   "source": [
    "all_line = ''\n",
    "#with open('../../mrc/cmrc2018/cmrc2018_trial.json', mode='r', encoding='utf-8') as f:\n",
    "with open('../../../../resources/corpus/mrc/cmrc2018/squad-style-data/cmrc2018_trial.json', mode='r', encoding='utf-8') as f:\n",
    "    lines = f.readlines()\n",
    "    all_line = ''.join(lines)\n",
    "\n",
    "import json \n",
    "test_data = json.loads(all_line)\n"
   ]
  },
  {
   "cell_type": "code",
   "execution_count": 3,
   "metadata": {
    "tags": []
   },
   "outputs": [
    {
     "name": "stdout",
     "output_type": "stream",
     "text": [
      "{'paragraphs': [{'id': 'TRAIN_186', 'context': '范廷颂枢机（，），圣名保禄·若瑟（），是越南罗马天主教枢机。1963年被任为主教；1990年被擢升为天主教河内总教区宗座署理；1994年被擢升为总主教，同年年底被擢升为枢机；2009年2月离世。范廷颂于1919年6月15日在越南宁平省天主教发艳教区出生；童年时接受良好教育后，被一位越南神父带到河内继续其学业。范廷颂于1940年在河内大修道院完成神学学业。范廷颂于1949年6月6日在河内的主教座堂晋铎；及后被派到圣女小德兰孤儿院服务。1950年代，范廷颂在河内堂区创建移民接待中心以收容到河内避战的难民。1954年，法越战争结束，越南民主共和国建都河内，当时很多天主教神职人员逃至越南的南方，但范廷颂仍然留在河内。翌年管理圣若望小修院；惟在1960年因捍卫修院的自由、自治及拒绝政府在修院设政治课的要求而被捕。1963年4月5日，教宗任命范廷颂为天主教北宁教区主教，同年8月15日就任；其牧铭为「我信天主的爱」。由于范廷颂被越南政府软禁差不多30年，因此他无法到所属堂区进行牧灵工作而专注研读等工作。范廷颂除了面对战争、贫困、被当局迫害天主教会等问题外，也秘密恢复修院、创建女修会团体等。1990年，教宗若望保禄二世在同年6月18日擢升范廷颂为天主教河内总教区宗座署理以填补该教区总主教的空缺。1994年3月23日，范廷颂被教宗若望保禄二世擢升为天主教河内总教区总主教并兼天主教谅山教区宗座署理；同年11月26日，若望保禄二世擢升范廷颂为枢机。范廷颂在1995年至2001年期间出任天主教越南主教团主席。2003年4月26日，教宗若望保禄二世任命天主教谅山教区兼天主教高平教区吴光杰主教为天主教河内总教区署理主教；及至2005年2月19日，范廷颂因获批辞去总主教职务而荣休；吴光杰同日真除天主教河内总教区总主教职务。范廷颂于2009年2月22日清晨在河内离世，享年89岁；其葬礼于同月26日上午在天主教河内总教区总主教座堂举行。', 'qas': [{'question': '范廷颂是什么时候被任为主教的？', 'id': 'TRAIN_186_QUERY_0', 'answers': [{'text': '1963年', 'answer_start': 30}]}, {'question': '1990年，范廷颂担任什么职务？', 'id': 'TRAIN_186_QUERY_1', 'answers': [{'text': '1990年被擢升为天主教河内总教区宗座署理', 'answer_start': 41}]}, {'question': '范廷颂是于何时何地出生的？', 'id': 'TRAIN_186_QUERY_2', 'answers': [{'text': '范廷颂于1919年6月15日在越南宁平省天主教发艳教区出生', 'answer_start': 97}]}, {'question': '1994年3月，范廷颂担任什么职务？', 'id': 'TRAIN_186_QUERY_3', 'answers': [{'text': '1994年3月23日，范廷颂被教宗若望保禄二世擢升为天主教河内总教区总主教并兼天主教谅山教区宗座署理', 'answer_start': 548}]}, {'question': '范廷颂是何时去世的？', 'id': 'TRAIN_186_QUERY_4', 'answers': [{'text': '范廷颂于2009年2月22日清晨在河内离世', 'answer_start': 759}]}]}], 'id': 'TRAIN_186', 'title': '范廷颂'}\n"
     ]
    }
   ],
   "source": [
    "print(test_data['data'][0])\n"
   ]
  },
  {
   "cell_type": "code",
   "execution_count": 4,
   "metadata": {
    "tags": []
   },
   "outputs": [],
   "source": [
    "pa_list = []\n",
    "\n",
    "for idx in range(len(test_data['data'])):\n",
    "    item = test_data['data'][idx]\n",
    "    # print(item['title'])\n",
    "    # print(item['id'])\n",
    "    # print(item['paragraphs'])\n",
    "    paragraphs = item['paragraphs']\n",
    "    for para in paragraphs:\n",
    "        # print(para['id'])\n",
    "        # print(para['context'])\n",
    "        qas_list = para['qas']\n",
    "        for qas in qas_list:\n",
    "            # print(qas['question'])\n",
    "            # print(qas['id'])\n",
    "            # print(qas['answers'][0]['text'])\n",
    "            pa_list.append(\" \".join(list(para['context'])) + ' ' + '[SEP]' + ' ' + \" \".join(list(qas['question'])))\n",
    "    # print(item['paragraphs'])\n",
    "    # print(item[])"
   ]
  },
  {
   "cell_type": "code",
   "execution_count": 5,
   "metadata": {},
   "outputs": [
    {
     "name": "stdout",
     "output_type": "stream",
     "text": [
      "10142\n"
     ]
    }
   ],
   "source": [
    "print(len(pa_list))"
   ]
  },
  {
   "cell_type": "code",
   "execution_count": 6,
   "metadata": {},
   "outputs": [],
   "source": [
    "q_list = []\n",
    "\n",
    "for idx in range(len(test_data['data'])):\n",
    "    item = test_data['data'][idx]\n",
    "    # print(item['title'])\n",
    "    # print(item['id'])\n",
    "    # print(item['paragraphs'])\n",
    "    paragraphs = item['paragraphs']\n",
    "    for para in paragraphs:\n",
    "        # print(para['id'])\n",
    "        # print(para['context'])\n",
    "        qas_list = para['qas']\n",
    "        for qas in qas_list:\n",
    "            # print(qas['question'])\n",
    "            # print(qas['id'])\n",
    "            # print(qas['answers'][0]['text'])\n",
    "            # pa_list.append(para['context'] + ' ' + '[SEP]' + ' ' + qas['question'])\n",
    "            q_list.append(\" \".join(list(qas['question'])))\n",
    "    # print(item['paragraphs'])\n",
    "    # print(item[])"
   ]
  },
  {
   "cell_type": "code",
   "execution_count": 7,
   "metadata": {},
   "outputs": [
    {
     "name": "stdout",
     "output_type": "stream",
     "text": [
      "10142\n"
     ]
    }
   ],
   "source": [
    "print(len(q_list))"
   ]
  },
  {
   "cell_type": "code",
   "execution_count": 8,
   "metadata": {},
   "outputs": [],
   "source": [
    "with open('test_q_list.txt', mode='w', encoding='utf-8') as f:\n",
    "    for line in q_list:\n",
    "        f.write(line.strip() + '\\n')"
   ]
  },
  {
   "cell_type": "code",
   "execution_count": 9,
   "metadata": {},
   "outputs": [],
   "source": [
    "with open('test_pa_list.txt', mode='w', encoding='utf-8') as f:\n",
    "    for line in pa_list:\n",
    "        f.write(line.strip() + '\\n')"
   ]
  },
  {
   "cell_type": "code",
   "execution_count": null,
   "metadata": {},
   "outputs": [],
   "source": []
  }
 ],
 "metadata": {
  "kernelspec": {
   "display_name": "base",
   "language": "python",
   "name": "python3"
  },
  "language_info": {
   "codemirror_mode": {
    "name": "ipython",
    "version": 3
   },
   "file_extension": ".py",
   "mimetype": "text/x-python",
   "name": "python",
   "nbconvert_exporter": "python",
   "pygments_lexer": "ipython3",
   "version": "3.9.7"
  },
  "orig_nbformat": 4,
  "vscode": {
   "interpreter": {
    "hash": "d20345af9713ebff8c68be7a4bc786792663d50f698c1c39eb248438a08adbaa"
   }
  }
 },
 "nbformat": 4,
 "nbformat_minor": 2
}
