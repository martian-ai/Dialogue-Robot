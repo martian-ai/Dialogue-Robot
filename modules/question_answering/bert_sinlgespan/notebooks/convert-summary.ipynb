{
 "metadata": {
  "language_info": {
   "codemirror_mode": {
    "name": "ipython",
    "version": 3
   },
   "file_extension": ".py",
   "mimetype": "text/x-python",
   "name": "python",
   "nbconvert_exporter": "python",
   "pygments_lexer": "ipython3",
   "version": "3.6.13"
  },
  "orig_nbformat": 4,
  "kernelspec": {
   "name": "python3",
   "display_name": "Python 3.6.13 64-bit ('env_base': conda)"
  },
  "interpreter": {
   "hash": "adc9edc0a6aa74c499d97d7f5034c501eb0c0b52eb1ca84f4602a603b7107c53"
  }
 },
 "nbformat": 4,
 "nbformat_minor": 2,
 "cells": [
  {
   "cell_type": "code",
   "execution_count": 1,
   "source": [
    "import jieba\n",
    "import re\n",
    "import numpy as np"
   ],
   "outputs": [],
   "metadata": {}
  },
  {
   "cell_type": "code",
   "execution_count": 2,
   "source": [
    "def text_segment(text):\n",
    "    tmp_list = re.split('[?!。？！]', text)\n",
    "    if tmp_list[-1] == '':\n",
    "        tmp_list = tmp_list[:-1]\n",
    "    return tmp_list"
   ],
   "outputs": [],
   "metadata": {}
  },
  {
   "cell_type": "code",
   "execution_count": 3,
   "source": [
    "all_line = ''\n",
    "with open('../../../../resources/corpus/mrc/cmrc2018/squad-style-data/cmrc2018_train.json', mode='r', encoding='utf-8') as f:\n",
    "    lines = f.readlines()\n",
    "    all_line = ''.join(lines)\n",
    "\n",
    "import json \n",
    "train_data = json.loads(all_line)\n",
    "\n",
    "all_line = ''\n",
    "with open('../../../../resources/corpus/mrc/cmrc2018/squad-style-data/cmrc2018_dev.json', mode='r', encoding='utf-8') as f:\n",
    "    lines = f.readlines()\n",
    "    all_line = ''.join(lines)\n",
    "\n",
    "import json \n",
    "dev_data = json.loads(all_line)\n",
    "\n",
    "all_line = ''\n",
    "with open('../../../../resources/corpus/mrc/cmrc2018/squad-style-data/cmrc2018_trial.json', mode='r', encoding='utf-8') as f:\n",
    "    lines = f.readlines()\n",
    "    all_line = ''.join(lines)\n",
    "\n",
    "import json \n",
    "test_data = json.loads(all_line)"
   ],
   "outputs": [],
   "metadata": {}
  },
  {
   "cell_type": "code",
   "execution_count": 4,
   "source": [
    "def build_labels(seg_context, answer_start):\n",
    "    labels = []\n",
    "    all_len = 0\n",
    "    for item in seg_context:\n",
    "        if all_len <= int(answer_start) <= len(item) + all_len:\n",
    "            labels.append(str(1))\n",
    "        else:\n",
    "            labels.append(str(0))\n",
    "        all_len += len(item) + 1\n",
    "    return labels[:len(seg_context)]\n",
    "    "
   ],
   "outputs": [],
   "metadata": {}
  },
  {
   "cell_type": "code",
   "execution_count": 5,
   "source": [
    "def data_builder(origin):\n",
    "    new = []\n",
    "    count_paras = 0\n",
    "    count_sents = 0\n",
    "    count_question_len = 0\n",
    "    count_context_len = 0\n",
    "    count_answer_len = 0\n",
    "    count_qas = 0\n",
    "    for idx in range(len(origin['data'])):\n",
    "        item = origin['data'][idx]\n",
    "        paragraphs = item['paragraphs']\n",
    "        for para in paragraphs:\n",
    "            qas_list = para['qas']\n",
    "            context = para['context']\n",
    "            count_context_len += len(context)\n",
    "            context = context.replace('\\n', '  ') # 遇害人的手提电话被凶手抢去。而该手提电机在案发后曾经被人\\n使用，因此能够凭借通话纪录，\n",
    "            seg_context = text_segment(context)\n",
    "            all_labels = [0] * len(seg_context)\n",
    "            count_paras += 1\n",
    "            count_sents += len(seg_context)\n",
    "            all_answers = []\n",
    "            count_qas += len(qas_list)\n",
    "            for qas in qas_list:\n",
    "                count_question_len += len(str(qas['answers'][0]['text']))\n",
    "                count_answer_len += len(str(qas['question']))\n",
    "                labels = build_labels(seg_context, str(qas['answers'][0]['answer_start']).strip('。'))\n",
    "                tmp = {'question':str(qas['question']), 'answer':str(qas['answers'][0]['text']).strip('。'), 'answer_start':str(qas['answers'][0]['answer_start']), 'char_at_answer_start': context[qas['answers'][0]['answer_start']]}\n",
    "                all_answers.append(tmp)\n",
    "                count = 0\n",
    "                for x, y in zip (all_labels, labels):\n",
    "                    all_labels[count] = str(int(x) + int(y))\n",
    "                    count += 1\n",
    "            new.append(json.dumps({\"doc\":str('\\n'.join(seg_context)), \"labels\":str('\\n'.join(all_labels)), \"summaries\":str(all_answers)}, ensure_ascii=False))\n",
    "    return new, count_paras, count_sents, count_context_len, count_question_len, count_answer_len, count_qas"
   ],
   "outputs": [],
   "metadata": {}
  },
  {
   "cell_type": "code",
   "execution_count": 6,
   "source": [
    "sum_data_train, count_paras_train, count_sents_train, len_context_train, len_question_train, len_answer_train, count_qas_train = data_builder(train_data)\n",
    "sum_data_test, count_paras_test, count_sents_test, len_context_test, len_question_test, len_answer_test, count_qas_test = data_builder(test_data)\n",
    "sum_data_dev, count_paras_dev, count_sents_dev, len_context_dev, len_question_dev, len_answer_dev, count_qas_dev = data_builder(dev_data)\n",
    "\n"
   ],
   "outputs": [],
   "metadata": {
    "tags": []
   }
  },
  {
   "cell_type": "code",
   "execution_count": 7,
   "source": [
    "\n",
    "print(count_sents_train)\n",
    "print(count_sents_test)\n",
    "print(count_sents_dev)\n",
    "print(count_paras_train)\n",
    "print(count_paras_test)\n",
    "print(count_paras_dev)\n",
    "print(count_sents_train/count_paras_train)\n",
    "print(count_sents_test/count_paras_test)\n",
    "print(count_sents_dev/count_paras_dev)"
   ],
   "outputs": [
    {
     "output_type": "stream",
     "name": "stdout",
     "text": [
      "27641\n",
      "3058\n",
      "9988\n",
      "2403\n",
      "256\n",
      "848\n",
      "11.502704952143155\n",
      "11.9453125\n",
      "11.778301886792454\n"
     ]
    }
   ],
   "metadata": {}
  },
  {
   "cell_type": "code",
   "execution_count": 8,
   "source": [
    "\n",
    "print(len_context_train)\n",
    "print(len_question_train)\n",
    "print(len_answer_train)\n",
    "\n",
    "print(len_context_test)\n",
    "print(len_question_test)\n",
    "print(len_answer_test)\n",
    "\n",
    "print(len_context_dev)\n",
    "print(len_question_dev)\n",
    "print(len_answer_dev)\n"
   ],
   "outputs": [
    {
     "output_type": "stream",
     "name": "stdout",
     "text": [
      "1219388\n",
      "196924\n",
      "164578\n",
      "133862\n",
      "30983\n",
      "15723\n",
      "432093\n",
      "34462\n",
      "52743\n"
     ]
    }
   ],
   "metadata": {}
  },
  {
   "cell_type": "code",
   "execution_count": 9,
   "source": [
    "\n",
    "print(len_context_train/count_sents_train)\n",
    "print(len_question_train/count_qas_train)\n",
    "print(len_answer_train/count_qas_train)\n",
    "\n",
    "print(len_context_test/count_sents_test)\n",
    "print(len_question_test/count_qas_test)\n",
    "print(len_answer_test/count_qas_test)\n",
    "\n",
    "print(len_context_dev/count_sents_dev)\n",
    "print(len_question_dev/count_qas_dev)\n",
    "print(len_answer_dev/count_qas_dev)"
   ],
   "outputs": [
    {
     "output_type": "stream",
     "name": "stdout",
     "text": [
      "120.23151252218497\n",
      "19.41668309998028\n",
      "16.227371327154408\n",
      "133.59481037924152\n",
      "30.92115768463074\n",
      "15.691616766467066\n",
      "134.23205964585276\n",
      "10.705809257533396\n",
      "16.384902143522833\n"
     ]
    }
   ],
   "metadata": {}
  },
  {
   "cell_type": "code",
   "execution_count": 10,
   "source": [
    "with open('cmrc_sum_train.txt', mode='w', encoding='utf-8') as f:\n",
    "    for line in sum_data_train:\n",
    "        f.write(str(line) + '\\n')"
   ],
   "outputs": [],
   "metadata": {}
  },
  {
   "cell_type": "code",
   "execution_count": 11,
   "source": [
    "with open('cmrc_sum_test.txt', mode='w', encoding='utf-8') as f:\n",
    "    for line in sum_data_test:\n",
    "        f.write(str(line) + '\\n')"
   ],
   "outputs": [],
   "metadata": {}
  },
  {
   "cell_type": "code",
   "execution_count": 12,
   "source": [
    "with open('cmrc_sum_dev.txt', mode='w', encoding='utf-8') as f:\n",
    "    for line in sum_data_dev:\n",
    "        f.write(str(line) + '\\n')"
   ],
   "outputs": [],
   "metadata": {}
  }
 ]
}