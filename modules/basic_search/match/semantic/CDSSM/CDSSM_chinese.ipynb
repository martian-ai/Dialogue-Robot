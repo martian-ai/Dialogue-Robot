{
 "cells": [
  {
   "cell_type": "code",
   "execution_count": 1,
   "metadata": {},
   "outputs": [],
   "source": [
    "import numpy as np\n",
    "import torch \n",
    "import torch.nn as nn\n",
    "from torch.autograd import Variable\n",
    "import sys\n",
    "sys.path.append('..')\n",
    "from function.CDSSM import CDSSM"
   ]
  },
  {
   "cell_type": "code",
   "execution_count": 2,
   "metadata": {},
   "outputs": [],
   "source": [
    "# 读取字典\n",
    "char2id = {}\n",
    "id2char = {}\n",
    "with open(\"../../../../../resources/corpus/lexical/char_7000.txt\", mode='r', encoding='utf-8') as f:\n",
    "    lines = f.readlines()\n",
    "    for idx, vocab in enumerate(lines):\n",
    "        vocab = vocab.strip()\n",
    "        char2id[vocab] = idx \n",
    "        id2char[idx] = vocab \n"
   ]
  },
  {
   "cell_type": "code",
   "execution_count": 4,
   "metadata": {},
   "outputs": [],
   "source": [
    "# 中文数据 构造方式 1 三体 + ES\n",
    "# l_Qs 为关于三体的相关问题\n",
    "# pos_Ds 为使用es 检索得到的结果\n",
    "# neg_Ds 为随机得到的结果（每次的随机种子固定）"
   ]
  },
  {
   "cell_type": "code",
   "execution_count": 5,
   "metadata": {
    "tags": []
   },
   "outputs": [],
   "source": [
    "# 中文数据 构造方式2  CMRC2018 等数据构造\n",
    "# l_Qs 数据集中question\n",
    "# pos_Ds 数据集中的answer\n",
    "# neg_Ds 数据集中的其他answer\n",
    "\n",
    "train_question = []\n",
    "train_true_answer = []\n",
    "train_false_answer = []\n",
    "all_document = []\n",
    "\n",
    "with open('../../../../../resources/corpus/qg/cmrc2018/train_pa_list.txt', mode='r', encoding='utf-8') as f:\n",
    "    train_pa_lines = f.readlines()\n",
    "with open('../../../../../resources/corpus/qg/cmrc2018/train_q_list.txt', mode='r', encoding='utf-8') as f:\n",
    "    train_q_lines = f.readlines()\n",
    "\n",
    "for line in train_pa_lines:\n",
    "    line = line.strip()\n",
    "    if len(line.split('[SEP]')) !=2:\n",
    "        continue\n",
    "    item1, item2 = line.split('[SEP]')\n",
    "    train_true_answer.append(item1)\n",
    "    all_document.append(item1)\n",
    "\n",
    "for line in train_q_lines:\n",
    "    train_question.append(line.strip())\n",
    "\n"
   ]
  },
  {
   "cell_type": "code",
   "execution_count": 6,
   "metadata": {},
   "outputs": [
    {
     "name": "stdout",
     "output_type": "stream",
     "text": [
      "['范 廷 颂 是 什 么 时 候 被 任 为 主 教 的 ？']\n",
      "['范 廷 颂 枢 机 （ ， ） ， 圣 名 保 禄 · 若 瑟 （ ） ， 是 越 南 罗 马 天 主 教 枢 机 。 1 9 6 3 年 被 任 为 主 教 ； 1 9 9 0 年 被 擢 升 为 天 主 教 河 内 总 教 区 宗 座 署 理 ； 1 9 9 4 年 被 擢 升 为 总 主 教 ， 同 年 年 底 被 擢 升 为 枢 机 ； 2 0 0 9 年 2 月 离 世 。 范 廷 颂 于 1 9 1 9 年 6 月 1 5 日 在 越 南 宁 平 省 天 主 教 发 艳 教 区 出 生 ； 童 年 时 接 受 良 好 教 育 后 ， 被 一 位 越 南 神 父 带 到 河 内 继 续 其 学 业 。 范 廷 颂 于 1 9 4 0 年 在 河 内 大 修 道 院 完 成 神 学 学 业 。 范 廷 颂 于 1 9 4 9 年 6 月 6 日 在 河 内 的 主 教 座 堂 晋 铎 ； 及 后 被 派 到 圣 女 小 德 兰 孤 儿 院 服 务 。 1 9 5 0 年 代 ， 范 廷 颂 在 河 内 堂 区 创 建 移 民 接 待 中 心 以 收 容 到 河 内 避 战 的 难 民 。 1 9 5 4 年 ， 法 越 战 争 结 束 ， 越 南 民 主 共 和 国 建 都 河 内 ， 当 时 很 多 天 主 教 神 职 人 员 逃 至 越 南 的 南 方 ， 但 范 廷 颂 仍 然 留 在 河 内 。 翌 年 管 理 圣 若 望 小 修 院 ； 惟 在 1 9 6 0 年 因 捍 卫 修 院 的 自 由 、 自 治 及 拒 绝 政 府 在 修 院 设 政 治 课 的 要 求 而 被 捕 。 1 9 6 3 年 4 月 5 日 ， 教 宗 任 命 范 廷 颂 为 天 主 教 北 宁 教 区 主 教 ， 同 年 8 月 1 5 日 就 任 ； 其 牧 铭 为 「 我 信 天 主 的 爱 」 。 由 于 范 廷 颂 被 越 南 政 府 软 禁 差 不 多 3 0 年 ， 因 此 他 无 法 到 所 属 堂 区 进 行 牧 灵 工 作 而 专 注 研 读 等 工 作 。 范 廷 颂 除 了 面 对 战 争 、 贫 困 、 被 当 局 迫 害 天 主 教 会 等 问 题 外 ， 也 秘 密 恢 复 修 院 、 创 建 女 修 会 团 体 等 。 1 9 9 0 年 ， 教 宗 若 望 保 禄 二 世 在 同 年 6 月 1 8 日 擢 升 范 廷 颂 为 天 主 教 河 内 总 教 区 宗 座 署 理 以 填 补 该 教 区 总 主 教 的 空 缺 。 1 9 9 4 年 3 月 2 3 日 ， 范 廷 颂 被 教 宗 若 望 保 禄 二 世 擢 升 为 天 主 教 河 内 总 教 区 总 主 教 并 兼 天 主 教 谅 山 教 区 宗 座 署 理 ； 同 年 1 1 月 2 6 日 ， 若 望 保 禄 二 世 擢 升 范 廷 颂 为 枢 机 。 范 廷 颂 在 1 9 9 5 年 至 2 0 0 1 年 期 间 出 任 天 主 教 越 南 主 教 团 主 席 。 2 0 0 3 年 4 月 2 6 日 ， 教 宗 若 望 保 禄 二 世 任 命 天 主 教 谅 山 教 区 兼 天 主 教 高 平 教 区 吴 光 杰 主 教 为 天 主 教 河 内 总 教 区 署 理 主 教 ； 及 至 2 0 0 5 年 2 月 1 9 日 ， 范 廷 颂 因 获 批 辞 去 总 主 教 职 务 而 荣 休 ； 吴 光 杰 同 日 真 除 天 主 教 河 内 总 教 区 总 主 教 职 务 。 范 廷 颂 于 2 0 0 9 年 2 月 2 2 日 清 晨 在 河 内 离 世 ， 享 年 8 9 岁 ； 其 葬 礼 于 同 月 2 6 日 上 午 在 天 主 教 河 内 总 教 区 总 主 教 座 堂 举 行 。 ']\n",
      "['范 廷 颂 枢 机 （ ， ） ， 圣 名 保 禄 · 若 瑟 （ ） ， 是 越 南 罗 马 天 主 教 枢 机 。 1 9 6 3 年 被 任 为 主 教 ； 1 9 9 0 年 被 擢 升 为 天 主 教 河 内 总 教 区 宗 座 署 理 ； 1 9 9 4 年 被 擢 升 为 总 主 教 ， 同 年 年 底 被 擢 升 为 枢 机 ； 2 0 0 9 年 2 月 离 世 。 范 廷 颂 于 1 9 1 9 年 6 月 1 5 日 在 越 南 宁 平 省 天 主 教 发 艳 教 区 出 生 ； 童 年 时 接 受 良 好 教 育 后 ， 被 一 位 越 南 神 父 带 到 河 内 继 续 其 学 业 。 范 廷 颂 于 1 9 4 0 年 在 河 内 大 修 道 院 完 成 神 学 学 业 。 范 廷 颂 于 1 9 4 9 年 6 月 6 日 在 河 内 的 主 教 座 堂 晋 铎 ； 及 后 被 派 到 圣 女 小 德 兰 孤 儿 院 服 务 。 1 9 5 0 年 代 ， 范 廷 颂 在 河 内 堂 区 创 建 移 民 接 待 中 心 以 收 容 到 河 内 避 战 的 难 民 。 1 9 5 4 年 ， 法 越 战 争 结 束 ， 越 南 民 主 共 和 国 建 都 河 内 ， 当 时 很 多 天 主 教 神 职 人 员 逃 至 越 南 的 南 方 ， 但 范 廷 颂 仍 然 留 在 河 内 。 翌 年 管 理 圣 若 望 小 修 院 ； 惟 在 1 9 6 0 年 因 捍 卫 修 院 的 自 由 、 自 治 及 拒 绝 政 府 在 修 院 设 政 治 课 的 要 求 而 被 捕 。 1 9 6 3 年 4 月 5 日 ， 教 宗 任 命 范 廷 颂 为 天 主 教 北 宁 教 区 主 教 ， 同 年 8 月 1 5 日 就 任 ； 其 牧 铭 为 「 我 信 天 主 的 爱 」 。 由 于 范 廷 颂 被 越 南 政 府 软 禁 差 不 多 3 0 年 ， 因 此 他 无 法 到 所 属 堂 区 进 行 牧 灵 工 作 而 专 注 研 读 等 工 作 。 范 廷 颂 除 了 面 对 战 争 、 贫 困 、 被 当 局 迫 害 天 主 教 会 等 问 题 外 ， 也 秘 密 恢 复 修 院 、 创 建 女 修 会 团 体 等 。 1 9 9 0 年 ， 教 宗 若 望 保 禄 二 世 在 同 年 6 月 1 8 日 擢 升 范 廷 颂 为 天 主 教 河 内 总 教 区 宗 座 署 理 以 填 补 该 教 区 总 主 教 的 空 缺 。 1 9 9 4 年 3 月 2 3 日 ， 范 廷 颂 被 教 宗 若 望 保 禄 二 世 擢 升 为 天 主 教 河 内 总 教 区 总 主 教 并 兼 天 主 教 谅 山 教 区 宗 座 署 理 ； 同 年 1 1 月 2 6 日 ， 若 望 保 禄 二 世 擢 升 范 廷 颂 为 枢 机 。 范 廷 颂 在 1 9 9 5 年 至 2 0 0 1 年 期 间 出 任 天 主 教 越 南 主 教 团 主 席 。 2 0 0 3 年 4 月 2 6 日 ， 教 宗 若 望 保 禄 二 世 任 命 天 主 教 谅 山 教 区 兼 天 主 教 高 平 教 区 吴 光 杰 主 教 为 天 主 教 河 内 总 教 区 署 理 主 教 ； 及 至 2 0 0 5 年 2 月 1 9 日 ， 范 廷 颂 因 获 批 辞 去 总 主 教 职 务 而 荣 休 ； 吴 光 杰 同 日 真 除 天 主 教 河 内 总 教 区 总 主 教 职 务 。 范 廷 颂 于 2 0 0 9 年 2 月 2 2 日 清 晨 在 河 内 离 世 ， 享 年 8 9 岁 ； 其 葬 礼 于 同 月 2 6 日 上 午 在 天 主 教 河 内 总 教 区 总 主 教 座 堂 举 行 。 ']\n"
     ]
    }
   ],
   "source": [
    "print(train_question[:1])\n",
    "print(train_true_answer[:1])\n",
    "print(all_document[:1])"
   ]
  },
  {
   "cell_type": "code",
   "execution_count": null,
   "metadata": {},
   "outputs": [],
   "source": [
    "# 中文数据预处理\n",
    "# 获得 l_Qs, pos_l_Ds, neg_l_Ds\n",
    "\n",
    "# sample_size = 10\n",
    "# l_Qs = []\n",
    "# pos_l_Ds = []\n",
    "\n",
    "# (query_len, doc_len) = (5, 100)\n",
    "\n",
    "# for i in range(sample_size):\n",
    "#     query_len = np.random.randint(1, 10)\n",
    "#     l_Q = np.random.rand(1, query_len, WORD_DEPTH)\n",
    "#     l_Qs.append(l_Q)\n",
    "    \n",
    "#     doc_len = np.random.randint(50, 500)\n",
    "#     l_D = np.random.rand(1, doc_len, WORD_DEPTH)\n",
    "#     pos_l_Ds.append(l_D)\n",
    "\n",
    "# neg_l_Ds = [[] for j in range(J)]\n",
    "# for i in range(sample_size):\n",
    "#     possibilities = list(range(sample_size))\n",
    "#     possibilities.remove(i)\n",
    "#     negatives = np.random.choice(possibilities, J, replace = False)\n",
    "#     for j in range(J):\n",
    "#         negative = negatives[j]\n",
    "#         neg_l_Ds[j].append(pos_l_Ds[negative])\n",
    "\n",
    "# # Till now, we have made a complete numpy dataset\n",
    "# # Now let's convert the numpy variables to torch Variable\n",
    "\n",
    "# for i in range(len(l_Qs)):\n",
    "#     l_Qs[i] = Variable(torch.from_numpy(l_Qs[i]).float())\n",
    "#     pos_l_Ds[i] = Variable(torch.from_numpy(pos_l_Ds[i]).float())\n",
    "#     for j in range(J):\n",
    "#         neg_l_Ds[j][i] = Variable(torch.from_numpy(neg_l_Ds[j][i]).float())"
   ]
  },
  {
   "cell_type": "code",
   "execution_count": null,
   "metadata": {},
   "outputs": [],
   "source": [
    "LETTER_GRAM_SIZE = 3 # See section 3.2.\n",
    "WINDOW_SIZE = 3 # See section 3.2.\n",
    "TOTAL_LETTER_GRAMS = int(3 * 1e4) # Determined from data. See section 3.2.\n",
    "WORD_DEPTH = WINDOW_SIZE * TOTAL_LETTER_GRAMS # See equation (1).\n",
    "# Uncomment it, if testing\n",
    "# WORD_DEPTH = 1000\n",
    "K = 300 # Dimensionality of the max-pooling layer. See section 3.4.\n",
    "L = 128 # Dimensionality of latent semantic space. See section 3.5.\n",
    "J = 4 # Number of random unclicked documents serving as negative examples for a query. See section 4.\n",
    "FILTER_LENGTH = 1 # We only consider one time step for convolutions."
   ]
  },
  {
   "cell_type": "code",
   "execution_count": null,
   "metadata": {},
   "outputs": [],
   "source": [
    "model = CDSSM()\n",
    "\n",
    "# Build a random data set.\n",
    "import numpy as np\n",
    "\n",
    "\n",
    "# Loss and optimizer\n",
    "criterion = torch.nn.CrossEntropyLoss()\n",
    "optimizer = torch.optim.SGD(model.parameters(), lr=1e-4, momentum=0.9)\n",
    "\n",
    "# output variable, remember the cosine similarity with positive doc was at 0th index\n",
    "y = np.ndarray(1)\n",
    "# CrossEntropyLoss expects only the index as a long tensor\n",
    "y[0] = 0\n",
    "y = Variable(torch.from_numpy(y).long())\n",
    "\n",
    "for i in range(sample_size):\n",
    "    y_pred = model(l_Qs[i], pos_l_Ds[i], [neg_l_Ds[j][i] for j in range(J)])\n",
    "    print(y_pred)\n",
    "    loss = criterion(y_pred.resize(1,J+1), y)\n",
    "    # print (i, loss.data[0])\n",
    "    optimizer.zero_grad()\n",
    "    loss.backward()\n",
    "    optimizer.step()"
   ]
  },
  {
   "cell_type": "code",
   "execution_count": null,
   "metadata": {},
   "outputs": [],
   "source": [
    "# "
   ]
  }
 ],
 "metadata": {
  "kernelspec": {
   "display_name": "Python 3.6.15 ('py36_paddle')",
   "language": "python",
   "name": "python3"
  },
  "language_info": {
   "codemirror_mode": {
    "name": "ipython",
    "version": 3
   },
   "file_extension": ".py",
   "mimetype": "text/x-python",
   "name": "python",
   "nbconvert_exporter": "python",
   "pygments_lexer": "ipython3",
   "version": "3.6.15"
  },
  "orig_nbformat": 4,
  "vscode": {
   "interpreter": {
    "hash": "9e022a4b77c4cd4a90358c35d26997fc5cc9eb4c10974756372a880b0433f426"
   }
  }
 },
 "nbformat": 4,
 "nbformat_minor": 2
}
