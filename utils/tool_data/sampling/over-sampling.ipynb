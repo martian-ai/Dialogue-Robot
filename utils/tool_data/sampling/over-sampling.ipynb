{
 "cells": [
  {
   "cell_type": "code",
   "execution_count": 13,
   "metadata": {},
   "outputs": [
    {
     "name": "stdout",
     "output_type": "stream",
     "text": "[[-0.9896496   0.81514736  1.83794321]\n [ 1.99652279  0.88744961  2.0009658 ]\n [ 0.46964093 -0.51777041 -1.16743629]\n [ 0.35365794  0.73277021  1.65220437]\n [-0.63425417  0.91352278  2.05975395]\n [-1.11867153  0.8695939   1.96070585]\n [-0.35030121  0.94903869  2.13983299]\n [ 1.78370094  0.88618445  1.9981132 ]\n [ 1.89876222  0.89785583  2.02442908]\n [-0.23396259  0.95841542  2.16097506]]\n[1 1 0 1 1 1 1 1 1 1]\n[[-0.9896496   0.81514736  1.83794321]\n [ 1.99652279  0.88744961  2.0009658 ]\n [ 0.46964093 -0.51777041 -1.16743629]\n [ 0.35365794  0.73277021  1.65220437]\n [-0.63425417  0.91352278  2.05975395]\n [-1.11867153  0.8695939   1.96070585]\n [-0.35030121  0.94903869  2.13983299]\n [ 1.78370094  0.88618445  1.9981132 ]\n [ 1.89876222  0.89785583  2.02442908]\n [-0.23396259  0.95841542  2.16097506]\n [ 0.46964093 -0.51777041 -1.16743629]\n [ 0.46964093 -0.51777041 -1.16743629]\n [ 0.46964093 -0.51777041 -1.16743629]\n [ 0.46964093 -0.51777041 -1.16743629]\n [ 0.46964093 -0.51777041 -1.16743629]\n [ 0.46964093 -0.51777041 -1.16743629]\n [ 0.46964093 -0.51777041 -1.16743629]\n [ 0.46964093 -0.51777041 -1.16743629]]\n[1 1 0 1 1 1 1 1 1 1 0 0 0 0 0 0 0 0]\n[(0, 9), (1, 9)]\n"
    }
   ],
   "source": [
    "from imblearn.over_sampling import RandomOverSampler\n",
    "from imblearn.over_sampling import *\n",
    "from imblearn.under_sampling import *\n",
    "from sklearn.datasets import make_classification\n",
    "\n",
    "ros = RandomOverSampler(random_state=0)\n",
    "X, y = make_classification(n_classes=2, class_sep=2, weights=[0.1, 0.9], n_informative=1, n_redundant=1, flip_y=0, n_features=3, n_clusters_per_class=1, n_samples=10, random_state=10)\n",
    "print(X)\n",
    "print(y)\n",
    "X_resampled, y_resampled = ros.fit_sample(X, y) # 重复少数类别的样本，直到各个类别样本数接近\n",
    "print(X_resampled)\n",
    "print(y_resampled)\n",
    "from collections import Counter\n",
    "print(sorted(Counter(y_resampled).items()))"
   ]
  },
  {
   "cell_type": "code",
   "execution_count": null,
   "metadata": {},
   "outputs": [],
   "source": [
    "# 朴素贝叶斯随机采样"
   ]
  },
  {
   "cell_type": "code",
   "execution_count": null,
   "metadata": {},
   "outputs": [],
   "source": [
    "# smote"
   ]
  },
  {
   "cell_type": "code",
   "execution_count": null,
   "metadata": {},
   "outputs": [],
   "source": [
    "# ADASYN"
   ]
  },
  {
   "cell_type": "code",
   "execution_count": null,
   "metadata": {},
   "outputs": [],
   "source": [
    "# SMOTE 变体"
   ]
  },
  {
   "cell_type": "code",
   "execution_count": null,
   "metadata": {},
   "outputs": [],
   "source": []
  }
 ],
 "metadata": {
  "kernelspec": {
   "display_name": "Python 3",
   "language": "python",
   "name": "python3"
  },
  "language_info": {
   "codemirror_mode": {
    "name": "ipython",
    "version": 3
   },
   "file_extension": ".py",
   "mimetype": "text/x-python",
   "name": "python",
   "nbconvert_exporter": "python",
   "pygments_lexer": "ipython3",
   "version": "3.6.2-final"
  }
 },
 "nbformat": 4,
 "nbformat_minor": 2
}